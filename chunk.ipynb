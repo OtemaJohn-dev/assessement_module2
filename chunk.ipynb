{
 "cells": [
  {
   "cell_type": "code",
   "execution_count": 16,
   "id": "b2379348",
   "metadata": {},
   "outputs": [],
   "source": [
    "with open(\"stored_text/romeo_and_juliet.txt\", \"r\", encoding=\"utf-8\") as file:\n",
    "    text = file.read()\n"
   ]
  },
  {
   "cell_type": "code",
   "execution_count": 17,
   "id": "3117b71b",
   "metadata": {},
   "outputs": [],
   "source": [
    "from chunking_evaluation.chunking import ClusterSemanticChunker"
   ]
  },
  {
   "cell_type": "code",
   "execution_count": 18,
   "id": "135d7fc5",
   "metadata": {},
   "outputs": [],
   "source": [
    "from langchain_openai import AzureOpenAIEmbeddings\n",
    "\n",
    "embeddings = AzureOpenAIEmbeddings(\n",
    "    model=\"text-embedding-3-large\",\n",
    "    azure_endpoint=\"https://ai-asksulaimanov7666ai665127629473.openai.azure.com/openai/deployments/text-embedding-3-small/embeddings?api-version=2023-05-15\",\n",
    "    api_key=\"6RHqiKKJ4IlJNFHJu5KvBmb50LyaLREQuezH29sDYxNkhZKWdhevJQQJ99BEACfhMk5XJ3w3AAAAACOGhZNL\"\n",
    ")\n",
    "ef = embeddings.embed_documents"
   ]
  },
  {
   "cell_type": "code",
   "execution_count": 19,
   "id": "233ea3d0",
   "metadata": {},
   "outputs": [],
   "source": [
    "sem_chunk = ClusterSemanticChunker(embedding_function=ef, max_chunk_size = 150)"
   ]
  },
  {
   "cell_type": "code",
   "execution_count": 20,
   "id": "8b6ad4f0",
   "metadata": {},
   "outputs": [
    {
     "data": {
      "text/plain": [
       "'engthens Romeo’s hours?\\n\\nROMEO.\\nNot having that which, having, makes them short.\\n\\nBENVOLIO.\\nIn love?\\n\\nROMEO.\\nOut.\\n\\nBENVOLIO.\\nOf love?\\n\\nROMEO.\\nOut of her favour where I am in love.\\n\\nBENVOLIO.\\nAlas that love so gentle in his view,\\nShould be so tyrannous and rough in proof.\\n\\nROMEO.\\nAlas that love, whose view is muffled still,\\nShould, without eyes, see pathways to his will!\\nWhere shall we dine? O me! What fray was here?\\nYet tell me not, for I have heard it all.\\nHere’s much to do with hate, but more with love:\\nWhy, then, O brawling love! O loving hate!\\nO anything, of nothing first create!\\nO heavy lightness! serious vanity!\\nMisshapen chaos of well-seeming forms!\\nFeather of lead, bright smoke, cold fire, sick health!\\nStill-waking sleep, that is not what it is!\\nThis love feel I, that feel no love in this.\\nDost thou not laugh?\\n\\nBENVOLIO.\\nNo coz, I rather weep.\\n\\nROMEO.\\nGood heart, at what?\\n\\nBENVOLIO.\\nAt thy good heart’s oppression.\\n\\nROMEO.\\nWhy such is love’s transgression.\\nGriefs of mine own lie heavy in my breast,\\nWhich thou wilt propagate to have it prest\\nWith more of thine. This love that thou hast shown\\nDoth add more grief to too much of mine own.\\nLove is a smoke made with the fume of sighs;\\nBeing purg’d, a fire sparkling in lovers’ eyes;\\nBeing vex’d, a sea nourish’d with lovers’ tears:\\nWhat is it else? A madness most discreet,\\nA choking gall, and a preserving sweet.\\nFarewell, my coz.\\n\\n [_Going._]\\n\\nBENVOLIO.\\nSoft! I will go along:\\nAnd if you leave me so, you do me wrong.\\n\\nROMEO.\\nTut! I have lost myself; I am not here.\\nThis is not Romeo, he’s some other where.\\n\\nBENVOLIO.\\nTell me in sadness who is that you love?\\n\\nROMEO.\\nWhat, shall I groan and tell thee?\\n\\nBENVOLIO.\\nGroan! Why, no; but sadly tell me who.\\n\\nROMEO.\\nBid a sick man in sadness make his will,\\nA word ill urg’d to one that is so ill.\\nIn sadness, cousin, I do love a woman.\\n\\nBENVOLIO.\\nI aim’d so near when I suppos’d you lov’d.\\n\\nROMEO.\\nA right good markman, and she’s fair I love.\\n\\nBENVOLIO.\\nA right fair mark, fair coz, is soonest hit.\\n\\nROMEO.\\nWell, in that hit you miss: she’ll not be hit\\nWith Cupid’s arrow, she hath Dian’s wit;\\nAnd in strong proof of chastity well arm’d,\\nFrom love’s weak childish bow she lives uncharm’d.\\nShe will not stay the siege of loving terms\\nNor bide th’encounter of assailing eyes,\\nNor ope her lap to saint-seducing gold:\\nO she’s rich in beauty, only poor\\nThat when she dies, with beauty dies her store.\\n\\nBENVOLIO.\\nThen she hath sworn that she will still live chaste?\\n\\nROMEO.\\nShe hath, and in that sparing makes huge waste;\\nFor beauty starv’d with her severity,\\nCuts beauty off from all posterity.\\nShe is too fair, too wise; wisely too fair,\\nTo merit bliss by making me despair.\\nShe hath forsworn to love, and in that vow\\nDo I live dead, that live to tell it now.\\n\\nBENVOLIO.\\nBe rul’d by me, forget to think of her.\\n\\nROMEO.\\nO teach me how I should forget to think.\\n\\nBENVOLIO.\\nBy giving liberty unto thine eyes;\\nExamine other beauties.\\n\\nROMEO.\\n’Tis the way\\nTo call hers, exquisite, in question more.\\nThese happy masks that kiss fair ladies’ brows,\\nBeing black, puts us in mind they hide the fair;\\nHe that is strucken blind cannot forget\\nThe precious treasure of his eyesight lost.\\nShow me a mistress that is passing fair,\\nWhat doth her beauty serve but as a note\\nWhere I may read who pass’d that passing fair?\\nFarewell, thou canst not teach me to forget.\\n\\nBENVOLIO.\\nI’ll pay that doctrine, or else die in debt.\\n\\n [_Exeunt._]\\n\\nSCENE II. A Street.\\n\\n Enter Capulet, Paris and Servant.\\n\\nCAPULET.\\nBut Montague is bound as well as I,\\nIn penalty alike; and ’tis not hard, I think,\\nFor men so old as we to keep the peace.\\n\\nPARIS.\\nOf honourable reckoning are you both,\\nAnd pity ’tis you liv’d at odds so long.\\nBut now my lord, what say you to my suit?\\n\\nCAPULET.\\nBut saying o’er what I have said before.\\nMy child is yet a stranger in the world,\\nShe hath not seen the change of fourteen years;\\nLet two more summers wither in their pride\\nEre we may think her ripe to be a bride.\\n\\nPARIS.\\nYounger than she are happy mothers made.\\n\\nCAPULET.\\nAnd too soon marr’d are those so early made.\\nThe earth hath swallowed all my hopes but she,\\nShe is the hopeful lady of my earth:\\nBut woo her, gentle Paris, get her heart,\\nMy will to her consent is but a part;\\nAnd she agree, within her scope of choice\\nLies my consent and fair according voice.\\nThis night I hold an old accustom’d feast,\\nWhereto I have invited many a guest,\\nSuch as I love, and you among the store,\\nOne more, most welcome, makes my number more.\\nAt my poor house look to behold this night\\nEarth-treading stars that make dark heaven light:\\nSuch comfort as do lusty young men feel\\nWhen well apparell’d April on the heel\\nOf limping winter treads, even such delight\\nAmong fresh female buds shall you this night\\nInherit at my house. Hear all, all see,\\nAnd like her most whose merit most shall be:\\nWhich, on more view of many, mine, being one,\\nMay stand in number, though in reckoning none.\\nCome, go with me. Go, sirrah, trudge about\\nThrough fair Verona; find those persons out\\nWhose names are written there, [_gives a paper_] and to them say,\\nMy house and welcome on their pleasure stay.\\n\\n [_Exeunt Capulet and Paris._]\\n\\nSERVANT.\\nFind them out whose names are written here! It is written that the\\nshoemaker should meddle with his yard and the tailor with his last, the\\nfisher with his pencil, and the painter with his nets; but I am sent to\\nfind those persons whose names are here writ, and can never find what\\nnames the writing person hath here writ. I must to the learned. In good\\ntime!\\n\\n Enter Benvolio and Romeo.\\n\\nBENVOLIO.\\nTut, man, one fire burns out another’s burning,\\nOne pain is lessen’d by another’s anguish;\\nTurn giddy, and be holp by backward turning;\\nOne desperate grief cures with another’s languish:\\nTake thou some new infection to thy eye,\\nAnd the rank poison of the old will die.\\n\\nROMEO.\\nYour plantain leaf is excellent for that.\\n\\nBENVOLIO.\\nFor what, I pray thee?\\n\\nROMEO.\\nFor your broken shin.\\n\\nBENVOLIO.\\nWhy, Romeo, art thou mad?\\n\\nROMEO.\\nNot mad, but bound more than a madman is:\\nShut up in prison, kept without my food,\\nWhipp’d and tormented and—God-den, good fellow.\\n\\nSERVANT.\\nGod gi’ go-den. I pray, sir, can you read?\\n\\nROMEO.\\nAy, mine own fortune in my misery.\\n\\nSERVANT.\\nPerhaps you have learned it without book.\\nBut I pray, can you read anything you see?\\n\\nROMEO.\\nAy, If I know the letters and the language.\\n\\nSERVANT.\\nYe say honestly, rest you merry!\\n\\nROMEO.\\nStay, fellow; I can read.\\n\\n [_He reads the letter._]\\n\\n_Signior Martino and his wife and daughters;\\nCounty Anselmo and his beauteous sisters;\\nThe lady widow of Utruvio;\\nSignior Placentio and his lovely nieces;\\nMercutio and his brother Valentine;\\nMine uncle Capulet, his wife, and daughters;\\nMy fair niece Rosaline and Livia;\\nSignior Valentio and his cousin Tybalt;\\nLucio and the lively Helena. _\\n\\n\\nA fair assembly. [_Gives back the paper_] Whither should they come?\\n\\nSERVANT.\\nUp.\\n\\nROMEO.\\nWhither to supper?\\n\\nSERVANT.\\nTo our house.\\n\\nROMEO.\\nWhose house?\\n\\nSERVANT.\\nMy master’s.\\n\\nROMEO.\\nIndeed I should have ask’d you that before.\\n\\nSERVANT.\\nNow I’ll tell you without asking. My master is the great rich Capulet,\\nand if you be not of the house of Montagues, I pray come and crush a\\ncup of wine. Rest you merry.\\n\\n [_Exit._]\\n\\nBENVOLIO.\\nAt this same ancient feast of Capulet’s\\nSups the fair Rosaline whom thou so lov’st;\\nWith all the admired beauties of Verona.\\nGo thither and with unattainted eye,\\nCompare her face with some that I shall show,\\nAnd I will make thee think thy swan a crow.\\n\\nROMEO.\\nWhen the devout religion of mine eye\\nMaintains such falsehood, then turn tears to fire;\\nAnd these who, often drown’d, could never die,\\nTransparent heretics, be burnt for liars.\\nOne fairer than my love? The all-seeing sun\\nNe’er saw her match since first the world begun.\\n\\nBENVOLIO.\\nTut, you saw her fair, none else being by,\\nHerself pois’d with herself in either eye:\\nBut in that crystal scales let there be weigh’d\\nYour lady’s love against some other maid\\nThat I will show you shining at this feast,\\nAnd she shall scant show well that now shows best.\\n\\nROMEO.\\nI’ll go along, no such sight to be shown,\\nBut to rejoice in splendour of my own.\\n\\n [_Exeunt._]\\n\\nSCENE III. Room in Capulet’s House.\\n\\n Enter Lady Capulet and Nurse.\\n\\nLADY CAPULET.\\nNurse, where’s my daughter? Call her forth to me.\\n\\nNURSE.\\nNow, by my maidenhead, at twelve year old,\\nI bade her come. What, lamb! What ladybird!\\nGod forbid! Where’s this girl? What, Juliet!\\n\\n Enter Juliet.\\n\\nJULIET.\\nHow now, who calls?\\n\\nNURSE.\\nYour mother.\\n\\nJULIET.\\nMadam, I am here. What is your will?\\n\\nLADY CAPULET.\\nThis is the matter. Nurse, give leave awhile,\\nWe must talk in secret. Nurse, come back again,\\nI have remember’d me, thou’s hear our counsel.\\nThou knowest my daughter’s of a pretty age.\\n\\nNURSE.\\nFaith, I can tell her age unto an hour.\\n\\nLADY CAPULET.\\nShe’s not fourteen.\\n\\nNURSE.\\nI’ll lay fourteen of my teeth,\\nAnd yet, to my teen be it spoken, I have but four,\\nShe is not fourteen. How long is it now\\nTo Lammas-tide?\\n\\nLADY CAPULET.\\nA fortnight and odd days.\\n\\nNURSE.\\nEven or odd, of all days in the year,\\nCome Lammas Eve at night shall she be fourteen.\\nSusan and she,—God rest all Christian souls!—\\nWere of an age. Well, Susan is with God;\\nShe was too good for me. But as I said,\\nOn Lammas Eve at night shall she be fourteen;\\nThat shall she, marry; I remember it well.\\n’Tis since the earthquake now eleven years;\\nAnd she was wean’d,—I never shall forget it—,\\nOf all the days of the year, upon that day:\\nFor I had then laid wormwood to my dug,\\nSitting in the sun under the dovehouse wall;\\nMy lord and you were then at Mantua:\\nNay, I do bear a brain. But as I said,\\nWhen it did taste the wormwood on the nipple\\nOf my dug and felt it bitter, pretty fool,\\nTo see it tetchy, and fall out with the dug!\\nShake, quoth the dovehouse: ’twas no need, I trow,\\nTo bid me trudge.\\nAnd since that time it is eleven years;\\nFor then she could stand alone; nay, by th’rood\\nShe could have run and waddled all about;\\nFor even the day before she broke her brow,\\nAnd then my husband,—God be with his soul!\\nA was a merry man,—took up the child:\\n‘Yea,’ quoth he, ‘dost thou fall upon thy face?\\nThou wilt fall backward when thou hast more wit;\\nWilt thou not, Jule?’ and, by my holidame,\\nThe pretty wretch left crying, and said ‘Ay’.\\nTo see now how a jest shall come about.\\nI warrant, and I should live a thousand years,\\nI never should forget it. ‘Wilt thou not, Jule?’ quoth he;\\nAnd, pretty fool, it stinted, and said ‘Ay.’\\n\\nLADY CAPULET.\\nEnough of this; I pray thee hold thy peace.\\n\\nNURSE.\\nYes, madam, yet I cannot choose but laugh,\\nTo think it should leave crying, and say ‘Ay’;\\nAnd yet I warrant it had upon it brow\\nA bump as big as a young cockerel’s stone;\\nA perilous knock, and it cried bitterly.\\n‘Yea,’ quoth my husband, ‘fall’st upon thy face?\\nThou wilt fall backward when thou comest to age;\\nWilt thou not, Jule?’ it stinted, and said ‘Ay’.\\n\\nJULIET.\\nAnd stint thou too, I pray thee, Nurse, say I.\\n\\nNURSE.\\nPeace, I have done. God mark thee to his grace\\nThou wast the prettiest babe that e’er I nurs’d:\\nAnd I might live to see thee married once, I have my wish.\\n\\nLADY CAPULET.\\nMarry, that marry is the very theme\\nI came to talk of. Tell me, daughter Juliet,\\nHow stands your disposition to be married?\\n\\nJULIET.\\nIt is an honour that I dream not of.\\n\\nNURSE.\\nAn honour! Were not I thine only nurse,\\nI would say thou hadst suck’d wisdom from thy teat.\\n\\nLADY CAPULET.\\nWell, think of marriage now: younger than you,\\nHere in Verona, ladies of esteem,\\nAre made already mothers. By my count\\nI was your mother much upon these years\\nThat you are now a maid. Thus, then, in brief;\\nThe valiant Paris seeks you for his love.\\n\\nNURSE.\\nA man, young lady! Lady, such a man\\nAs all the world—why he’s a man of wax.\\n\\nLADY CAPULET.\\nVerona’s summer hath not such a flower.\\n\\nNURSE.\\nNay, he’s a flower, in faith a very flower.\\n\\nLADY CAPULET.\\nWhat say you, can you love the gentleman?\\nThis night you shall behold him at our feast;\\nRead o’er the volume of young Paris’ face,\\nAnd find delight writ there with beauty’s pen.\\nExamine every married lineament,\\nAnd see how one another lends content;\\nAnd what obscur’d in this fair volume lies,\\nFind written in the margent of his eyes.\\nThis precious book of love, this unbound lover,\\nTo beautify him, only lacks a cover:\\nThe fish lives in the sea; and ’tis much pride\\nFor fair without the fair within to hide.\\nThat book in many’s eyes doth share the glory,\\nThat in gold clasps locks in the golden story;\\nSo shall you share all that he doth possess,\\nBy having him, making yourself no less.\\n\\nNURSE.\\nNo less, nay bigger. Women grow by men.\\n\\nLADY CAPULET.\\nSpeak briefly, can you like of Paris’ love?\\n\\nJULIET.\\nI’ll look to like, if looking liking move:\\nBut no more deep will I endart mine eye\\nThan your consent gives strength to make it fly.\\n\\n Enter a Servant.\\n\\nSERVANT.\\nMadam, the guests are come, supper served up, you called, my young lady\\nasked for, the Nurse cursed in the pantry, and everything in extremity.\\nI must hence to wait, I beseech you follow straight.\\n\\nLADY CAPULET.\\nWe follow thee.\\n\\n [_Exit Servant._]\\n\\nJuliet, the County stays.\\n\\nNURSE.\\nGo, girl, seek happy nights to happy days.\\n\\n [_Exeunt._]\\n\\nSCENE IV. A Street.\\n\\n Enter Romeo, Mercutio, Benvolio, with five or six Maskers;\\n Torch-bearers and others.\\n\\nROMEO.\\nWhat, shall this speech be spoke for our excuse?\\nOr shall we on without apology?\\n\\nBENVOLIO.\\nThe date is out of such prolixity:\\nWe’ll have no Cupid hoodwink’d with a scarf,\\nBearing a Tartar’s painted bow of lath,\\nScaring the ladies like a crow-keeper;\\nNor no without-book prologue, faintly spoke\\nAfter the prompter, for our entrance:\\nBut let them measure us by what they will,\\nWe’ll measure them a measure, and be gone.\\n\\nROMEO.\\nGive me a torch, I am not for this ambling;\\nBeing but heavy I will bear the light.\\n\\nMERCUTIO.\\nNay, gentle Romeo, we must have you dance.\\n\\nROMEO.\\nNot I, believe me, you have dancing shoes,\\nWith nimble soles, I have a soul of lead\\nSo stakes me to the ground I cannot move.\\n\\nMERCUTIO.\\nYou are a lover, borrow Cupid’s wings,\\nAnd soar with them above a common bound.\\n\\nROMEO.\\nI am too sore enpierced with his shaft\\nTo soar with his light feathers, and so bound,\\nI cannot bound a pitch above dull woe.\\nUnder love’s heavy burden do I sink.\\n\\nMERCUTIO.\\nAnd, to sink in it, should you burden love;\\nToo great oppression for a tender thing.\\n\\nROMEO.\\nIs love a tender thing? It is too rough,\\nToo rude, too boisterous; and it pricks like thorn.\\n\\nMERCUTIO.\\nIf love be rough with you, be rough with love;\\nPrick love for pricking, and you beat love down.\\nGive me a case to put my visage in: [_Putting on a mask._]\\nA visor for a visor. What care I\\nWhat curious eye doth quote deformities?\\nHere are the beetle-brows shall blush for me.\\n\\nBENVOLIO.\\nCome, knock and enter; and no sooner in\\nBut every man betake him to his legs.\\n\\nROMEO.\\nA torch for me: let wantons, light of heart,\\nTickle the senseless rushes with their heels;\\nFor I am proverb’d with a grandsire phrase,\\nI’ll be a candle-holder and look on,\\nThe game was ne’er so fair, and I am done.\\n\\nMERCUTIO.\\nTut, dun’s the mouse, the constable’s own word:\\nIf thou art dun, we’ll draw thee from the mire\\nOr save your reverence love, wherein thou stickest\\nUp to the ears. Come, we burn daylight, ho.\\n\\nROMEO.\\nNay, that’s not so.\\n\\nMERCUTIO.\\nI mean sir, in delay\\nWe waste our lights in vain, light lights by day.\\nTake our good meaning, for our judgment sits\\nFive times in that ere once in our five wits.\\n\\nROMEO.\\nAnd we mean well in going to this mask;\\nBut ’tis no wit to go.\\n\\nMERCUTIO.\\nWhy, may one ask?\\n\\nROMEO.\\nI dreamt a dream tonight.\\n\\nMERCUTIO.\\nAnd so did I.\\n\\nROMEO.\\nWell what was yours?\\n\\nMERCUTIO.\\nThat dreamers often lie.\\n\\nROMEO.\\nIn bed asleep, while they do dream things true.\\n\\nMERCUTIO.\\nO, then, I see Queen Mab hath been with you.\\nShe is the fairies’ midwife, and she comes\\nIn shape no bigger than an agate-stone\\nOn the fore-finger of an alderman,\\nDrawn with a team of little atomies\\nOver men’s noses as they lie asleep:\\nHer waggon-spokes made of long spinners’ legs;\\nThe cover, of the wings of grasshoppers;\\nHer traces, of the smallest spider’s web;\\nThe collars, of the moonshine’s watery beams;\\nHer whip of cricket’s bone; the lash, of film;\\nHer waggoner, a small grey-coated gnat,\\nNot half so big as a round little worm\\nPrick’d from the lazy finger of a maid:\\nHer chariot is an empty hazelnut,\\nMade by the joiner squirrel or old grub,\\nTime out o’ mind the fairies’ coachmakers.\\nAnd in this state she gallops night by night\\nThrough lovers’ brains, and then they dream of love;\\nO’er courtiers’ knees, that dream on curtsies straight;\\nO’er lawyers’ fingers, who straight dream on fees;\\nO’er ladies’ lips, who straight on kisses dream,\\nWhich oft the angry Mab with blisters plagues,\\nBecause their breaths with sweetmeats tainted are:\\nSometime she gallops o’er a courtier’s nose,\\nAnd then dreams he of smelling out a suit;\\nAnd sometime comes she with a tithe-pig’s tail,\\nTickling a parson’s nose as a lies asleep,\\nThen dreams he of another benefice:\\nSometime she driveth o’er a soldier’s neck,\\nAnd then dreams he of cutting foreign throats,\\nOf breaches, ambuscados, Spanish blades,\\nOf healths five fathom deep; and then anon\\nDrums in his ear, at which he starts and wakes;\\nAnd, being thus frighted, swears a prayer or two,\\nAnd sleeps again. This is that very Mab\\nThat plats the manes of horses in the night;\\nAnd bakes the elf-locks in foul sluttish hairs,\\nWhich, once untangled, much misfortune bodes:\\nThis is the hag, when maids lie on their backs,\\nThat presses them, and learns them first to bear,\\nMaking them women of good carriage:\\nThis is she,—\\n\\nROMEO.\\nPeace, peace, Mercutio, peace,\\nThou talk’st of nothing.\\n\\nMERCUTIO.\\nTrue, I talk of dreams,\\nWhich are the children of an idle brain,\\nBegot of nothing but vain fantasy,\\nWhich is as thin of substance as the air,\\nAnd more inconstant than the wind, who woos\\nEven now the frozen bosom of the north,\\nAnd, being anger’d, puffs away from thence,\\nTurning his side to the dew-dropping south.\\n\\nBENVOLIO.\\nThis wind you talk of blows us from ourselves:\\nSupper is done, and we shall come too late.\\n\\nROMEO.\\nI fear too early: for my mind misgives\\nSome consequence yet hanging in the stars,\\nShall bitterly begin his fearful date\\nWith this night’s revels; and expire the term\\nOf a despised life, clos’d in my breast\\nBy some vile forfeit of untimely death.\\nBut he that hath the steerage of my course\\nDirect my suit. On, lusty gentlemen!\\n\\nBENVOLIO.\\nStrike, drum.\\n\\n [_Exeunt._]\\n\\nSCENE V. A Hall in Capulet’s House.\\n\\n Musicians waiting. Enter Servants.\\n\\nFIRST SERVANT.\\nWhere’s Potpan, that he helps not to take away?\\nHe shift a trencher! He scrape a trencher!\\n\\nSECOND SERVANT.\\nWhen good manners shall lie all in one or two men’s hands, and they\\nunwash’d too, ’tis a foul thing.\\n\\nFIRST SERVANT.\\nAway with the join-stools, remove the court-cupboard, look to the\\nplate. Good thou, save me a piece of marchpane; and as thou loves me,\\nlet the porter let in Susan Grindstone and Nell. Antony and Potpan!\\n\\nSECOND SERVANT.\\nAy, boy, ready.\\n\\nFIRST SERVANT.\\nYou are looked for and called for, asked for and sought for, in the\\ngreat chamber.\\n\\nSECOND SERVANT.\\nWe cannot be here and there too. Cheerly, boys. Be brisk awhile, and\\nthe longer liver take all.\\n\\n [_Exeunt._]\\n\\n Enter Capulet, &c. with the Guests and Gentlewomen to the Maskers.\\n\\nCAPULET.\\nWelcome, gentlemen, ladies that have their toes\\nUnplagu’d with corns will have a bout with you.\\nAh my mistresses, which of you all\\nWill now deny to dance? She that makes dainty,\\nShe I’ll swear hath corns. Am I come near ye now?\\nWelcome, gentlemen! I have seen the day\\nThat I have worn a visor, and could tell\\nA whispering tale in a fair lady’s ear,\\nSuch as would please; ’tis gone, ’tis gone, ’tis gone,\\nYou are welcome, gentlemen! Come, musicians, play.\\nA hall, a hall, give room! And foot it, girls.\\n\\n [_Music plays, and they dance._]\\n\\nMore light, you knaves; and turn the tables up,\\nAnd quench the fire, the room is grown too hot.\\nAh sirrah, this unlook’d-for sport comes well.\\nNay sit, nay sit, good cousin Capulet,\\nFor you and I are past our dancing days;\\nHow long is’t now since last yourself and I\\nWere in a mask?\\n\\nCAPULET’S COUSIN.\\nBy’r Lady, thirty years.\\n\\nCAPULET.\\nWhat, man, ’tis not so much, ’tis not so much:\\n’Tis since the nuptial of Lucentio,\\nCome Pentecost as quickly as it will,\\nSome five and twenty years; and then we mask’d.\\n\\nCAPULET’S COUSIN.\\n’Tis more, ’tis more, his son is elder, sir;\\nHis son is thirty.\\n\\nCAPULET.\\nWill you tell me that?\\nHis son was but a ward two years ago.\\n\\nROMEO.\\nWhat lady is that, which doth enrich the hand\\nOf yonder knight?\\n\\nSERVANT.\\nI know not, sir.\\n\\nROMEO.\\nO, she doth teach the torches to burn bright!\\nIt seems she hangs upon the cheek of night\\nAs a rich jewel in an Ethiop’s ear;\\nBeauty too rich for use, for earth too dear!\\nSo shows a snowy dove trooping with crows\\nAs yonder lady o’er her fellows shows.\\nThe measure done, I’ll watch her place of stand,\\nAnd touching hers, make blessed my rude hand.\\nDid my heart love till now? Forswear it, sight!\\nFor I ne’er saw true beauty till this night.\\n\\nTYBALT.\\nThis by his voice, should be a Montague.\\nFetch me my rapier, boy. What, dares the slave\\nCome hither, cover’d with an antic face,\\nTo fleer and scorn at our solemnity?\\nNow by the stock and honour of my kin,\\nTo strike him dead I hold it not a sin.\\n\\nCAPULET.\\nWhy how now, kinsman!\\nWherefore storm you so?\\n\\nTYBALT.\\nUncle, this is a Montague, our foe;\\nA villain that is hither come in spite,\\nTo scorn at our solemnity this night.\\n\\nCAPULET.\\nYoung Romeo, is it?\\n\\nTYBALT.\\n’Tis he, that villain Romeo.\\n\\nCAPULET.\\nContent thee, gentle coz, let him alone,\\nA bears him like a portly gentleman;\\nAnd, to say truth, Verona brags of him\\nTo be a virtuous and well-govern’d youth.\\nI would not for the wealth of all the town\\nHere in my house do him disparagement.\\nTherefore be patient, take no note of him,\\nIt is my will; the which if thou respect,\\nShow a fair presence and put off these frowns,\\nAn ill-beseeming semblance for a feast.\\n\\nTYBALT.\\nIt fits when such a villain is a guest:\\nI’ll not endure him.\\n\\nCAPULET.\\nHe shall be endur’d.\\nWhat, goodman boy! I say he shall, go to;\\nAm I the master here, or you? Go to.\\nYou’ll not endure him! God shall mend my soul,\\nYou’ll make a mutiny among my guests!\\nYou will set cock-a-hoop, you’ll be the man!\\n\\nTYBALT.\\nWhy, uncle, ’tis a shame.\\n\\nCAPULET.\\nGo to, go to!\\nYou are a saucy boy. Is’t so, indeed?\\nThis trick may chance to scathe you, I know what.\\nYou must contrary me! Marry, ’tis time.\\nWell said, my hearts!—You are a princox; go:\\nBe quiet, or—More light, more light!—For shame!\\nI’ll make you quiet. What, cheerly, my hearts.\\n\\nTYBALT.\\nPatience perforce with wilful choler meeting\\nMakes my flesh tremble in their different greeting.\\nI will withdraw: but this intrusion shall,\\nNow seeming sweet, convert to bitter gall.\\n\\n [_Exit._]\\n\\nROMEO.\\n[_To Juliet._] If I profane with my unworthiest hand\\nThis holy shrine, the gentle sin is this,\\nMy lips, two blushing pilgrims, ready stand\\nTo smooth that rough touch with a'"
      ]
     },
     "execution_count": 20,
     "metadata": {},
     "output_type": "execute_result"
    }
   ],
   "source": [
    "text[11000:34000]"
   ]
  },
  {
   "cell_type": "code",
   "execution_count": 21,
   "id": "355ad559",
   "metadata": {},
   "outputs": [],
   "source": [
    "sem_chunk = sem_chunk.split_text(text)"
   ]
  },
  {
   "cell_type": "code",
   "execution_count": 24,
   "id": "cf0f8618",
   "metadata": {},
   "outputs": [
    {
     "data": {
      "text/plain": [
       "524"
      ]
     },
     "execution_count": 24,
     "metadata": {},
     "output_type": "execute_result"
    }
   ],
   "source": [
    "len(sem_chunk)"
   ]
  },
  {
   "cell_type": "code",
   "execution_count": 25,
   "id": "c5b90985",
   "metadata": {},
   "outputs": [
    {
     "name": "stdout",
     "output_type": "stream",
     "text": [
      "O love! O life! Not life, but love in death! CAPULET.\n",
      "Despis’d, distressed, hated, martyr’d, kill’d.\n",
      "Uncomfortable time, why cam’st thou now\n",
      "To murder, murder our solemnity? O child! O child! My soul, and not my child,\n",
      "Dead art thou. Alack, my child is dead,\n",
      "And with my child my joys are buried.\n",
      "---------------------------\n",
      "FRIAR LAWRENCE.\n",
      "Peace, ho, for shame. Confusion’s cure lives not\n",
      "In these confusions. Heaven and yourself\n",
      "Had part in this fair maid, now heaven hath all, And all the better is it for the maid.\n",
      "Your part in her you could not keep from death,\n",
      "But heaven keeps his part in eternal life.\n",
      "The most you sought was her promotion, For ’twas your heaven she should be advanc’d,\n",
      "And weep ye now, seeing she is advanc’d\n",
      "Above the clouds, as high as heaven itself?\n",
      "---------------------------\n",
      "O, in this love, you love your child so ill\n",
      "That you run mad, seeing that she is well.\n",
      "She’s not well married that lives married long,\n",
      "But she’s best married that dies married young.\n",
      "---------------------------\n",
      "Dry up your tears, and stick your rosemary\n",
      "On this fair corse, and, as the custom is,\n",
      "And in her best array bear her to church;\n",
      "For though fond nature bids us all lament, Yet nature’s tears are reason’s merriment.\n",
      "---------------------------\n",
      "CAPULET.\n",
      "All things that we ordained festival\n",
      "Turn from their office to black funeral:\n",
      "Our instruments to melancholy bells,\n",
      "Our wedding cheer to a sad burial feast; Our solemn hymns to sullen dirges change;\n",
      "Our bridal flowers serve for a buried corse,\n",
      "And all things change them to the contrary.\n",
      "---------------------------\n",
      "FRIAR LAWRENCE.\n",
      "Sir, go you in, and, madam, go with him,\n",
      "And go, Sir Paris, everyone prepare\n",
      "To follow this fair corse unto her grave. The heavens do lower upon you for some ill;\n",
      "Move them no more by crossing their high will. [_Exeunt Capulet, Lady Capulet, Paris and Friar._]\n",
      "\n",
      "FIRST MUSICIAN.\n",
      "Faith, we may put up our pipes and be gone.\n",
      "---------------------------\n",
      "NURSE.\n",
      "Honest good fellows, ah, put up, put up,\n",
      "For well you know this is a pitiful case.\n",
      "\n",
      "FIRST MUSICIAN.\n",
      "Ay, by my troth, the case may be amended. [_Exit Nurse._]\n",
      "\n",
      " Enter Peter.\n",
      "\n",
      "PETER.\n",
      "Musicians, O, musicians, ‘Heart’s ease,’ ‘Heart’s ease’, O, and you\n",
      "will have me live, play ‘Heart’s ease.’ FIRST MUSICIAN.\n",
      "Why ‘Heart’s ease’?\n",
      "\n",
      "PETER.\n",
      "O musicians, because my heart itself plays ‘My heart is full’. O play\n",
      "me some merry dump to comfort me.\n",
      "---------------------------\n",
      "FIRST MUSICIAN.\n",
      "Not a dump we, ’tis no time to play now.\n",
      "\n",
      "PETER.\n",
      "You will not then?\n",
      "\n",
      "FIRST MUSICIAN.\n",
      "No.\n",
      "\n",
      "PETER.\n",
      "I will then give it you soundly. FIRST MUSICIAN.\n",
      "What will you give us?\n",
      "\n",
      "PETER.\n",
      "No money, on my faith, but the gleek! I will give you the minstrel. FIRST MUSICIAN.\n",
      "Then will I give you the serving-creature.\n",
      "---------------------------\n",
      "PETER.\n",
      "Then will I lay the serving-creature’s dagger on your pate. I will\n",
      "carry no crotchets. I’ll re you, I’ll fa you. Do you note me? FIRST MUSICIAN.\n",
      "And you re us and fa us, you note us.\n",
      "\n",
      "SECOND MUSICIAN.\n",
      "Pray you put up your dagger, and put out your wit. PETER.\n",
      "Then have at you with my wit. I will dry-beat you with an iron wit, and\n",
      "put up my iron dagger. Answer me like men.\n",
      "---------------------------\n",
      "‘When griping griefs the heart doth wound,\n",
      "      And doleful dumps the mind oppress,\n",
      "    Then music with her silver sound’— Why ‘silver sound’? Why ‘music with her silver sound’? What say you,\n",
      "Simon Catling?\n",
      "---------------------------\n",
      "FIRST MUSICIAN.\n",
      "Marry, sir, because silver hath a sweet sound.\n",
      "\n",
      "PETER.\n",
      "Prates. What say you, Hugh Rebeck?\n",
      "\n",
      "SECOND MUSICIAN.\n",
      "I say ‘silver sound’ because musicians sound for silver. PETER.\n",
      "Prates too! What say you, James Soundpost?\n",
      "\n",
      "THIRD MUSICIAN.\n",
      "Faith, I know not what to say. PETER.\n",
      "O, I cry you mercy, you are the singer. I will say for you. It is\n",
      "‘music with her silver sound’ because musicians have no gold for\n",
      "sounding.\n",
      "---------------------------\n",
      "‘Then music with her silver sound\n",
      "      With speedy help doth lend redress.’ [_Exit._]\n",
      "\n",
      "FIRST MUSICIAN.\n",
      "What a pestilent knave is this same!\n",
      "\n",
      "SECOND MUSICIAN.\n",
      "Hang him, Jack. Come, we’ll in here, tarry for the mourners, and stay\n",
      "dinner. [_Exeunt._]\n",
      "\n",
      "\n",
      "\n",
      "\n",
      "ACT V\n",
      "\n",
      "SCENE I. Mantua. A Street.\n",
      "\n",
      "\n",
      " Enter Romeo.\n",
      "---------------------------\n",
      "ROMEO.\n",
      "If I may trust the flattering eye of sleep,\n",
      "My dreams presage some joyful news at hand.\n",
      "My bosom’s lord sits lightly in his throne;\n",
      "And all this day an unaccustom’d spirit Lifts me above the ground with cheerful thoughts.\n",
      "I dreamt my lady came and found me dead,—\n",
      "Strange dream, that gives a dead man leave to think!—\n",
      "And breath’d such life with kisses in my lips, That I reviv’d, and was an emperor.\n",
      "Ah me, how sweet is love itself possess’d,\n",
      "When but love’s shadows are so rich in joy.\n",
      "---------------------------\n",
      "Enter Balthasar. News from Verona! How now, Balthasar?\n",
      "Dost thou not bring me letters from the Friar?\n",
      "How doth my lady? Is my father well?\n",
      "How fares my Juliet? That I ask again;\n",
      "---------------------------\n",
      "For nothing can be ill if she be well. BALTHASAR.\n",
      "Then she is well, and nothing can be ill.\n",
      "Her body sleeps in Capel’s monument,\n",
      "And her immortal part with angels lives.\n",
      "---------------------------\n",
      "I saw her laid low in her kindred’s vault,\n",
      "And presently took post to tell it you.\n",
      "O pardon me for bringing these ill news,\n",
      "Since you did leave it for my office, sir. ROMEO.\n",
      "Is it even so? Then I defy you, stars!\n",
      "Thou know’st my lodging. Get me ink and paper,\n",
      "And hire post-horses. I will hence tonight. BALTHASAR.\n",
      "I do beseech you sir, have patience.\n",
      "Your looks are pale and wild, and do import\n",
      "Some misadventure.\n",
      "---------------------------\n",
      "ROMEO.\n",
      "Tush, thou art deceiv’d.\n",
      "Leave me, and do the thing I bid thee do.\n",
      "Hast thou no letters to me from the Friar?\n",
      "\n",
      "BALTHASAR.\n",
      "No, my good lord. ROMEO.\n",
      "No matter. Get thee gone,\n",
      "And hire those horses. I’ll be with thee straight.\n",
      "\n",
      " [_Exit Balthasar._] Well, Juliet, I will lie with thee tonight.\n",
      "Let’s see for means. O mischief thou art swift\n",
      "To enter in the thoughts of desperate men.\n",
      "I do remember an apothecary,—\n",
      "---------------------------\n",
      "And hereabouts he dwells,—which late I noted\n",
      "In tatter’d weeds, with overwhelming brows,\n",
      "Culling of simples, meagre were his looks,\n",
      "Sharp misery had worn him to the bones; And in his needy shop a tortoise hung,\n",
      "An alligator stuff’d, and other skins\n",
      "Of ill-shaped fishes; and about his shelves\n",
      "A beggarly account of empty boxes, Green earthen pots, bladders, and musty seeds,\n",
      "Remnants of packthread, and old cakes of roses\n",
      "Were thinly scatter’d, to make up a show.\n",
      "Noting this penury, to myself I said,\n",
      "---------------------------\n",
      "And if a man did need a poison now,\n",
      "Whose sale is present death in Mantua,\n",
      "Here lives a caitiff wretch would sell it him.\n",
      "O, this same thought did but forerun my need, And this same needy man must sell it me.\n",
      "As I remember, this should be the house.\n",
      "Being holiday, the beggar’s shop is shut.\n",
      "What, ho! Apothecary! Enter Apothecary.\n",
      "\n",
      "APOTHECARY.\n",
      "Who calls so loud?\n",
      "---------------------------\n",
      "ROMEO.\n",
      "Come hither, man. I see that thou art poor.\n",
      "Hold, there is forty ducats. Let me have\n",
      "A dram of poison, such soon-speeding gear\n",
      "---------------------------\n"
     ]
    }
   ],
   "source": [
    "for i in range(0, 20):\n",
    "    print(sem_chunk[400 + i])\n",
    "    print(\"---------------------------\")"
   ]
  },
  {
   "cell_type": "code",
   "execution_count": 26,
   "id": "6fbb4b44",
   "metadata": {},
   "outputs": [],
   "source": [
    "import chromadb\n",
    "\n",
    "client = chromadb.HttpClient(host=\"localhost\", port=8000)\n",
    " "
   ]
  },
  {
   "cell_type": "code",
   "execution_count": 27,
   "id": "767e2777",
   "metadata": {},
   "outputs": [],
   "source": [
    "from chromadb.utils import embedding_functions\n",
    "# from dotenv import dotenv_values\n",
    "\n",
    "# config = dotenv_values(\".env\")\n",
    "azure_openai_ef = embedding_functions.OpenAIEmbeddingFunction(\n",
    "\n",
    "    api_base=\"https://ai-asksulaimanov7666ai665127629473.openai.azure.com\",\n",
    "    deployment_id=\"text-embedding-3-small\",\n",
    "    api_key=\"6RHqiKKJ4IlJNFHJu5KvBmb50LyaLREQuezH29sDYxNkhZKWdhevJQQJ99BEACfhMk5XJ3w3AAAAACOGhZNL\",\n",
    "    api_type=\"azure\",\n",
    "    api_version=\"2023-05-15\", \n",
    "    model_name=\"text-embedding-3-small\"  \n",
    ")"
   ]
  },
  {
   "cell_type": "code",
   "execution_count": null,
   "id": "9cb1ad33",
   "metadata": {},
   "outputs": [],
   "source": [
    "client.delete_collection"
   ]
  },
  {
   "cell_type": "code",
   "execution_count": 29,
   "id": "5ae8d130",
   "metadata": {},
   "outputs": [],
   "source": [
    "collection = client.get_or_create_collection(\"romeo_and_juliet_local\")"
   ]
  },
  {
   "cell_type": "code",
   "execution_count": 30,
   "id": "469b2cb9",
   "metadata": {},
   "outputs": [
    {
     "data": {
      "text/plain": [
       "0"
      ]
     },
     "execution_count": 30,
     "metadata": {},
     "output_type": "execute_result"
    }
   ],
   "source": [
    "collection.count()"
   ]
  },
  {
   "cell_type": "code",
   "execution_count": 31,
   "id": "f6a1aca5",
   "metadata": {},
   "outputs": [],
   "source": [
    "local_ef = collection._embedding_function"
   ]
  },
  {
   "cell_type": "code",
   "execution_count": 32,
   "id": "88682876",
   "metadata": {},
   "outputs": [
    {
     "data": {
      "text/plain": [
       "[array([-1.64063815e-02,  8.68995562e-02,  5.37863839e-03, -1.21133421e-02,\n",
       "         1.03570288e-02,  1.99228972e-02,  1.20748229e-01, -3.38747203e-02,\n",
       "         6.52876422e-02, -2.05825716e-02,  1.31378807e-02,  1.97666138e-02,\n",
       "        -4.79033217e-02, -8.48721638e-02, -4.70138453e-02,  2.41873022e-02,\n",
       "        -5.45976683e-04, -1.29242870e-03, -1.83223821e-02,  5.54241575e-02,\n",
       "         3.73355709e-02,  8.05735290e-02,  3.49711776e-02, -4.55937870e-02,\n",
       "        -6.02826625e-02,  1.78425927e-02, -5.89282960e-02, -2.89410111e-02,\n",
       "        -1.40756806e-02, -6.58225119e-02,  2.31585675e-03,  3.21940035e-02,\n",
       "        -9.92374197e-02, -3.49735208e-02, -5.40383086e-02,  9.22371596e-02,\n",
       "        -4.92838919e-02, -6.90269098e-02,  6.85826089e-05,  7.09916931e-03,\n",
       "         6.65096304e-05,  3.15645300e-02, -1.61537565e-02, -2.49875933e-02,\n",
       "        -5.39905243e-02,  3.15691270e-02, -3.66610521e-03,  2.20324993e-02,\n",
       "         3.15077193e-02, -7.53780976e-02,  2.54654605e-02, -1.67907365e-02,\n",
       "         6.31598523e-04,  3.99765819e-02, -1.09452978e-02,  1.06833294e-01,\n",
       "         4.29644063e-02,  2.00112499e-02,  3.07332873e-02, -2.71599237e-02,\n",
       "        -3.60859856e-02,  5.77843450e-02,  3.21318358e-02, -1.20950956e-02,\n",
       "         7.15544587e-03, -5.73190562e-02,  1.11948252e-01, -2.24631168e-02,\n",
       "        -8.04552138e-02,  3.22660767e-02, -1.36605510e-02, -1.80102196e-02,\n",
       "        -3.79760447e-03, -9.91190318e-03, -1.04811117e-01,  3.23492400e-02,\n",
       "        -8.92016198e-03, -1.09460898e-01, -3.19830216e-02,  1.14571787e-02,\n",
       "        -2.62224097e-02, -1.42255714e-02,  3.42888534e-02,  5.89965135e-02,\n",
       "        -7.05517381e-02, -1.62866265e-02,  8.74299370e-03, -4.96199019e-02,\n",
       "         2.32302900e-02, -1.77281238e-02, -1.24799311e-02, -4.37319204e-02,\n",
       "        -1.33692056e-01,  5.08513153e-02,  3.41242156e-03,  2.23717205e-02,\n",
       "        -7.12234229e-02,  1.93582159e-02, -1.54030114e-01,  8.29371959e-02,\n",
       "         5.04232123e-02, -1.64482221e-02, -7.35970505e-04,  4.59645912e-02,\n",
       "         1.85627807e-02, -2.27061640e-02, -6.92372173e-02, -6.60887547e-03,\n",
       "         9.94448829e-03, -2.99395155e-02,  2.71153674e-02, -6.57223761e-02,\n",
       "        -2.78417133e-02, -6.48504272e-02, -1.70030687e-02,  7.94325694e-02,\n",
       "        -4.12740093e-03, -2.15394050e-02, -9.50669870e-03,  5.30905351e-02,\n",
       "         5.53732552e-02,  5.87537065e-02, -4.78431620e-02,  4.29161862e-02,\n",
       "        -7.30187297e-02, -4.88297306e-02,  1.28195407e-02,  2.50687597e-33,\n",
       "        -3.28723267e-02, -2.22352613e-02, -7.85247143e-03, -1.07941531e-01,\n",
       "         3.91654894e-02, -5.10552451e-02, -4.15879451e-02,  2.14234050e-02,\n",
       "         6.43919036e-02, -7.71316662e-02,  9.09899920e-03, -7.50060678e-02,\n",
       "         1.52629716e-02, -7.75707960e-02, -3.35937887e-02, -2.44089384e-02,\n",
       "         8.94814432e-02,  5.56678548e-02,  4.27402109e-02, -4.39365543e-02,\n",
       "        -4.72692139e-02,  3.92636582e-02,  1.75328646e-02,  4.55915108e-02,\n",
       "        -5.63091263e-02, -3.47377323e-02,  3.56318355e-02,  1.84310060e-02,\n",
       "         4.65156361e-02,  2.01573744e-02,  3.16610932e-02,  8.53641853e-02,\n",
       "         9.74262878e-02, -2.34570391e-02, -7.22960616e-03,  2.09013857e-02,\n",
       "        -1.23303076e-02,  2.56746006e-03, -3.68075743e-02, -3.52853686e-02,\n",
       "         5.34298383e-02, -1.71652064e-03,  5.41862249e-02,  5.47138788e-02,\n",
       "        -6.63547870e-03, -1.56531334e-02,  5.44569828e-02,  7.13946149e-02,\n",
       "        -6.80756643e-02,  3.17733139e-02,  5.93478233e-02, -4.00981978e-02,\n",
       "         3.40082832e-02,  4.44547683e-02,  3.11948429e-03,  4.22188640e-02,\n",
       "        -2.75272634e-02,  4.66289856e-02,  6.41276240e-02,  7.41038145e-03,\n",
       "        -3.89088616e-02, -3.53951156e-02,  1.61168426e-02,  2.67847534e-02,\n",
       "        -1.04370276e-02, -3.74553427e-02, -7.02505559e-02, -4.92171384e-02,\n",
       "        -5.08240834e-02, -3.79650630e-02, -1.18465342e-01,  3.05771753e-02,\n",
       "        -1.07279271e-02,  9.57644209e-02,  7.26163620e-03,  2.52318662e-02,\n",
       "        -6.42951764e-03, -8.45549908e-03,  7.23391995e-02, -4.74654734e-02,\n",
       "         3.18964422e-02, -2.30100146e-03, -1.03272155e-01, -1.89749002e-02,\n",
       "         1.25388995e-01, -2.71924585e-02,  5.75768575e-02, -1.67803034e-01,\n",
       "        -9.65023786e-03,  6.27200827e-02,  1.96915008e-02,  5.69059439e-02,\n",
       "        -1.06814429e-02, -1.09970436e-01, -4.59297607e-03, -4.81119920e-33,\n",
       "         5.07656299e-02, -1.45948157e-02, -2.05673110e-02,  7.68544748e-02,\n",
       "         8.27617571e-03,  1.35488622e-02, -4.64800149e-02, -1.85164846e-02,\n",
       "        -2.62888651e-02,  7.57330060e-02, -5.11273220e-02, -8.66711512e-03,\n",
       "        -5.31226918e-02,  9.99948662e-03,  5.54459728e-02, -1.01525620e-01,\n",
       "         1.42742489e-02,  6.37700707e-02, -3.44250835e-02,  2.59414166e-02,\n",
       "        -2.31541097e-02,  6.37548491e-02, -9.94894840e-03, -2.97635309e-02,\n",
       "        -4.26707603e-02,  2.63180304e-02,  7.24840388e-02, -4.33899015e-02,\n",
       "         2.62713851e-03, -6.36672676e-02,  7.74604455e-02, -8.99950191e-02,\n",
       "        -1.19731575e-01,  8.58051404e-02,  8.51163920e-03,  3.23040411e-02,\n",
       "         9.59688127e-02,  3.31147872e-02, -3.21234413e-03, -4.26971838e-02,\n",
       "        -1.77197121e-02, -1.96085796e-02,  6.32565543e-02,  2.53688334e-03,\n",
       "        -2.07701027e-02, -8.48000944e-02, -2.49041189e-02,  7.25190789e-02,\n",
       "         4.00454514e-02, -2.94129644e-02, -3.76032665e-02, -4.39056149e-03,\n",
       "         6.84501454e-02, -1.16357524e-02, -8.35697129e-02, -9.14593562e-02,\n",
       "         5.44663193e-03, -9.57454070e-02,  4.05046828e-02, -2.26517301e-02,\n",
       "         1.06835179e-01,  2.11603474e-02, -3.62257063e-02,  6.53289258e-02,\n",
       "         8.44172388e-02, -4.85802628e-02,  5.07057353e-04,  7.17838993e-03,\n",
       "         8.60898849e-03,  4.10816856e-02, -5.51060680e-03, -5.02595194e-02,\n",
       "        -5.98685816e-02, -5.80836795e-02,  4.48115468e-02,  5.04532792e-02,\n",
       "         2.94856504e-02, -3.64880711e-02, -2.17935164e-02, -7.49530122e-02,\n",
       "         5.55815361e-02, -8.14398825e-02,  4.34034839e-02, -2.01381706e-02,\n",
       "         6.35061637e-02, -1.38436645e-01,  2.36890372e-02,  4.57092561e-02,\n",
       "        -5.74609861e-02, -2.34329533e-02, -4.72397134e-02, -4.42843027e-02,\n",
       "         8.15943852e-02, -5.20320497e-02,  5.94936050e-02, -5.50071420e-08,\n",
       "         2.65088640e-02,  1.48205878e-03,  3.62097332e-03, -3.51411104e-02,\n",
       "         7.40181804e-02, -8.32196623e-02,  4.48529348e-02,  1.97535031e-04,\n",
       "         1.92264793e-03,  1.47224730e-02, -4.00353484e-02,  1.68444868e-02,\n",
       "         2.17956156e-02, -2.44120564e-02,  3.40877809e-02,  7.53766894e-02,\n",
       "        -8.54316726e-02, -1.08030021e-01, -2.81354953e-02, -4.65333313e-02,\n",
       "        -1.99290719e-02, -5.15559167e-02,  2.69371886e-02, -5.07226437e-02,\n",
       "        -1.82029456e-02,  3.39728147e-02,  8.81032646e-02,  4.36150879e-02,\n",
       "         6.95949048e-03,  4.17802818e-02,  6.86475113e-02,  3.38207334e-02,\n",
       "         1.77254770e-02,  2.75088567e-02, -7.25834072e-02, -1.97749939e-02,\n",
       "         7.13209808e-03,  3.73558067e-02,  5.57074696e-02,  4.57343832e-02,\n",
       "        -2.21768953e-02, -2.50002425e-02, -2.98435856e-02,  1.93682667e-02,\n",
       "        -1.97157077e-03, -8.08161870e-02,  1.00917302e-01,  7.26199076e-02,\n",
       "        -7.85693973e-02,  5.41335456e-02, -1.82065070e-02,  2.39062551e-02,\n",
       "         1.90985505e-03,  7.47701302e-02, -1.46602234e-02,  1.21098245e-03,\n",
       "         7.68592879e-02,  3.70143205e-02, -1.00136243e-01,  4.93577868e-02,\n",
       "         2.99378783e-02, -2.58516110e-02,  1.83390509e-02, -5.04264794e-02],\n",
       "       dtype=float32)]"
      ]
     },
     "execution_count": 32,
     "metadata": {},
     "output_type": "execute_result"
    }
   ],
   "source": [
    "local_ef([sem_chunk[432]])"
   ]
  },
  {
   "cell_type": "code",
   "execution_count": 33,
   "id": "86b8661d",
   "metadata": {},
   "outputs": [
    {
     "name": "stderr",
     "output_type": "stream",
     "text": [
      "100%|██████████| 524/524 [04:18<00:00,  2.03it/s]\n"
     ]
    }
   ],
   "source": [
    "from tqdm import tqdm\n",
    "embeds = []\n",
    "for chunk in tqdm(sem_chunk):\n",
    "    embeds.append(local_ef([chunk])[0])\n"
   ]
  },
  {
   "cell_type": "code",
   "execution_count": 37,
   "id": "ef9b1c25",
   "metadata": {},
   "outputs": [],
   "source": [
    "collection.add(documents=sem_chunk, ids = [f\"i{i}\" for i in range(len(sem_chunk))], embeddings=embeds)"
   ]
  },
  {
   "cell_type": "code",
   "execution_count": 38,
   "id": "3f35c7ed",
   "metadata": {},
   "outputs": [
    {
     "data": {
      "text/plain": [
       "524"
      ]
     },
     "execution_count": 38,
     "metadata": {},
     "output_type": "execute_result"
    }
   ],
   "source": [
    "collection.count()"
   ]
  },
  {
   "cell_type": "code",
   "execution_count": 39,
   "id": "38a52923",
   "metadata": {},
   "outputs": [
    {
     "data": {
      "text/plain": [
       "{'ids': [['i167',\n",
       "   'i292',\n",
       "   'i411',\n",
       "   'i156',\n",
       "   'i478',\n",
       "   'i303',\n",
       "   'i158',\n",
       "   'i214',\n",
       "   'i121',\n",
       "   'i120']],\n",
       " 'distances': [[0.7090871,\n",
       "   0.7141158,\n",
       "   0.75601256,\n",
       "   0.7649276,\n",
       "   0.7783615,\n",
       "   0.78697675,\n",
       "   0.80004406,\n",
       "   0.80978894,\n",
       "   0.81879306,\n",
       "   0.8267069]],\n",
       " 'embeddings': None,\n",
       " 'metadatas': [[None, None, None, None, None, None, None, None, None, None]],\n",
       " 'documents': [['ROMEO.\\nO let us hence; I stand on sudden haste.\\n\\nFRIAR LAWRENCE.\\nWisely and slow; they stumble that run fast.\\n\\n [_Exeunt._]\\n\\nSCENE IV. A Street. Enter Benvolio and Mercutio.\\n\\nMERCUTIO.\\nWhere the devil should this Romeo be? Came he not home tonight?\\n\\nBENVOLIO.\\nNot to his father’s; I spoke with his man. MERCUTIO.\\nWhy, that same pale hard-hearted wench, that Rosaline, torments him so\\nthat he will sure run mad.',\n",
       "   'ROMEO.\\nSpakest thou of Juliet? How is it with her?\\nDoth not she think me an old murderer,\\nNow I have stain’d the childhood of our joy With blood remov’d but little from her own?\\nWhere is she? And how doth she? And what says\\nMy conceal’d lady to our cancell’d love? NURSE.\\nO, she says nothing, sir, but weeps and weeps;\\nAnd now falls on her bed, and then starts up,\\nAnd Tybalt calls, and then on Romeo cries,',\n",
       "   '‘Then music with her silver sound\\n      With speedy help doth lend redress.’ [_Exit._]\\n\\nFIRST MUSICIAN.\\nWhat a pestilent knave is this same!\\n\\nSECOND MUSICIAN.\\nHang him, Jack. Come, we’ll in here, tarry for the mourners, and stay\\ndinner. [_Exeunt._]\\n\\n\\n\\n\\nACT V\\n\\nSCENE I. Mantua. A Street.\\n\\n\\n Enter Romeo.',\n",
       "   'Enter Romeo.',\n",
       "   'CAPULET.\\nAs rich shall Romeo’s by his lady’s lie,\\nPoor sacrifices of our enmity. PRINCE.\\nA glooming peace this morning with it brings;\\nThe sun for sorrow will not show his head.\\nGo hence, to have more talk of these sad things. Some shall be pardon’d, and some punished,\\nFor never was a story of more woe\\nThan this of Juliet and her Romeo.',\n",
       "   'ROMEO.\\nBut that a joy past joy calls out on me,\\nIt were a grief so brief to part with thee.\\nFarewell.\\n\\n [_Exeunt._]\\n\\nSCENE IV. A Room in Capulet’s House. Enter Capulet, Lady Capulet and Paris. CAPULET.\\nThings have fallen out, sir, so unluckily\\nThat we have had no time to move our daughter.\\nLook you, she lov’d her kinsman Tybalt dearly,',\n",
       "   'ROMEO.\\nGood morrow, father.',\n",
       "   'Enter Juliet.',\n",
       "   '[_Exit._]\\n\\nSCENE I. An open place adjoining Capulet’s Garden.\\n\\n Enter Romeo.\\n\\nROMEO.\\nCan I go forward when my heart is here?\\nTurn back, dull earth, and find thy centre out. [_He climbs the wall and leaps down within it._]\\n\\n Enter Benvolio and Mercutio.\\n\\nBENVOLIO.\\nRomeo! My cousin Romeo! Romeo! MERCUTIO.\\nHe is wise,\\nAnd on my life hath stol’n him home to bed.\\n\\nBENVOLIO.\\nHe ran this way, and leap’d this orchard wall:\\nCall, good Mercutio.',\n",
       "   'With tender Juliet match’d, is now not fair.\\nNow Romeo is belov’d, and loves again,\\nAlike bewitched by the charm of looks;\\nBut to his foe suppos’d he must complain, And she steal love’s sweet bait from fearful hooks:\\nBeing held a foe, he may not have access\\nTo breathe such vows as lovers use to swear;\\nAnd she as much in love, her means much less To meet her new beloved anywhere.\\nBut passion lends them power, time means, to meet,\\nTempering extremities with extreme sweet.']],\n",
       " 'uris': None,\n",
       " 'data': None,\n",
       " 'included': ['metadatas', 'documents', 'distances']}"
      ]
     },
     "execution_count": 39,
     "metadata": {},
     "output_type": "execute_result"
    }
   ],
   "source": [
    "collection.query(query_texts=[\"Why is Romeo sad at the beginning of the play?\"])"
   ]
  },
  {
   "cell_type": "code",
   "execution_count": null,
   "id": "1c8c2821",
   "metadata": {},
   "outputs": [],
   "source": [
    "len(embeds)"
   ]
  },
  {
   "cell_type": "code",
   "execution_count": null,
   "id": "ee43169e",
   "metadata": {},
   "outputs": [],
   "source": [
    "print(sem_chunk[432])"
   ]
  },
  {
   "cell_type": "code",
   "execution_count": 24,
   "id": "52598b38",
   "metadata": {},
   "outputs": [],
   "source": [
    "collection.add(documents=sem_chunk, ids = [f\"i{i}\" for i in range(len(sem_chunk))], embeddings=embeds)"
   ]
  },
  {
   "cell_type": "code",
   "execution_count": null,
   "metadata": {},
   "outputs": [],
   "source": [
    "collection"
   ]
  },
  {
   "cell_type": "code",
   "execution_count": 27,
   "id": "3676bf29",
   "metadata": {},
   "outputs": [],
   "source": [
    "local_ef = collection._embedding_function"
   ]
  },
  {
   "cell_type": "code",
   "execution_count": null,
   "id": "9c9ad58f",
   "metadata": {},
   "outputs": [],
   "source": [
    "collection.count()"
   ]
  },
  {
   "cell_type": "code",
   "execution_count": null,
   "id": "d0f4ac2d",
   "metadata": {},
   "outputs": [],
   "source": [
    "results = collection.get(ids=[f\"i{i}\" for i in range(len(sem_chunk))])\n",
    "print(results)"
   ]
  }
 ],
 "metadata": {
  "kernelspec": {
   "display_name": ".venv",
   "language": "python",
   "name": "python3"
  },
  "language_info": {
   "codemirror_mode": {
    "name": "ipython",
    "version": 3
   },
   "file_extension": ".py",
   "mimetype": "text/x-python",
   "name": "python",
   "nbconvert_exporter": "python",
   "pygments_lexer": "ipython3",
   "version": "3.13.2"
  }
 },
 "nbformat": 4,
 "nbformat_minor": 5
}
