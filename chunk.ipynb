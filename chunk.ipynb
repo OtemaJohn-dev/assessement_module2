{
 "cells": [
  {
   "cell_type": "code",
   "execution_count": 31,
   "id": "b2379348",
   "metadata": {},
   "outputs": [],
   "source": [
    "with open(\"stored_text/war_and_peace.txt\", \"r\", encoding=\"utf-8\") as file:\n",
    "    text = file.read()\n"
   ]
  },
  {
   "cell_type": "code",
   "execution_count": 32,
   "id": "3117b71b",
   "metadata": {},
   "outputs": [],
   "source": [
    "from chunking_evaluation.chunking import ClusterSemanticChunker"
   ]
  },
  {
   "cell_type": "code",
   "execution_count": null,
   "id": "135d7fc5",
   "metadata": {},
   "outputs": [],
   "source": [
    "from langchain_openai import AzureOpenAIEmbeddings\n",
    "from dotenv import dotenv_values\n",
    "config = dotenv_values(\".env\")\n",
    "\n",
    "embeddings = AzureOpenAIEmbeddings(\n",
    "    model=\"text-embedding-3-large\",\n",
    "    azure_endpoint=config.get(\"AZURE_ENDPOINT_EMBEDDINGS\")\n",
    "    api_key=config.get(\"AZURE_API_KEY_EMBEDDINGS\")\n",
    ")\n",
    "ef = embeddings.embed_documents"
   ]
  },
  {
   "cell_type": "code",
   "execution_count": 33,
   "id": "233ea3d0",
   "metadata": {},
   "outputs": [],
   "source": [
    "sem_chunk = ClusterSemanticChunker(embedding_function=ef, max_chunk_size = 150)"
   ]
  },
  {
   "cell_type": "code",
   "execution_count": 34,
   "id": "8b6ad4f0",
   "metadata": {},
   "outputs": [
    {
     "data": {
      "text/plain": [
       "'d child, a continual consciousness of her charming defect,\\nwhich she neither wished, nor could, nor considered it necessary, to\\ncorrect.\\n\\nIn the midst of a conversation on political matters Anna Pávlovna burst\\nout:\\n\\n“Oh, don’t speak to me of Austria. Perhaps I don’t understand\\nthings, but Austria never has wished, and does not wish, for war. She\\nis betraying us! Russia alone must save Europe. Our gracious sovereign\\nrecognizes his high vocation and will be true to it. That is the one\\nthing I have faith in! Our good and wonderful sovereign has to perform\\nthe noblest role on earth, and he is so virtuous and noble that God will\\nnot forsake him. He will fulfill his vocation and crush the hydra of\\nrevolution, which has become more terrible than ever in the person of\\nthis murderer and villain! We alone must avenge the blood of the just\\none.... Whom, I ask you, can we rely on?... England with her commercial\\nspirit will not and cannot understand the Emperor Alexander’s\\nloftiness of soul. She has refused to evacuate Malta. She wanted to\\nfind, and still seeks, some secret motive in our actions. What answer\\ndid Novosíltsev get? None. The English have not understood and cannot\\nunderstand the self-abnegation of our Emperor who wants nothing for\\nhimself, but only desires the good of mankind. And what have they\\npromised? Nothing! And what little they have promised they will not\\nperform! Prussia has always declared that Buonaparte is invincible, and\\nthat all Europe is powerless before him.... And I don’t believe a\\nword that Hardenburg says, or Haugwitz either. This famous Prussian\\nneutrality is just a trap. I have faith only in God and the lofty\\ndestiny of our adored monarch. He will save Europe!”\\n\\nShe suddenly paused, smiling at her own impetuosity.\\n\\n“I think,” said the prince with a smile, “that if you had been\\nsent instead of our dear Wintzingerode you would have captured the King\\nof Prussia’s consent by assault. You are so eloquent. Will you give me\\na cup of tea?”\\n\\n“In a moment. À propos,” she added, becoming calm again, “I am\\nexpecting two very interesting men tonight, le Vicomte de Mortemart, who\\nis connected with the Montmorencys through the Rohans, one of the best\\nFrench families. He is one of the genuine émigrés, the good ones. And\\nalso the Abbé Morio. Do you know that profound thinker? He has been\\nreceived by the Emperor. Had you heard?”\\n\\n“I shall be delighted to meet them,” said the prince. “But\\ntell me,” he added with studied carelessness as if it had only just\\noccurred to him, though the question he was about to ask was the chief\\nmotive of his visit, “is it true that the Dowager Empress wants\\nBaron Funke to be appointed first secretary at Vienna? The baron by all\\naccounts is a poor creature.”\\n\\nPrince Vasíli wished to obtain this post for his son, but others were\\ntrying through the Dowager Empress Márya Fëdorovna to secure it for\\nthe baron.\\n\\nAnna Pávlovna almost closed her eyes to indicate that neither she nor\\nanyone else had a right to criticize what the Empress desired or was\\npleased with.\\n\\n“Baron Funke has been recommended to the Dowager Empress by her\\nsister,” was all she said, in a dry and mournful tone.\\n\\nAs she named the Empress, Anna Pávlovna’s face suddenly assumed an\\nexpression of profound and sincere devotion and respect mingled with\\nsadness, and this occurred every time she mentioned her illustrious\\npatroness. She added that Her Majesty had deigned to show Baron Funke\\nbeaucoup d’estime, and again her face clouded over with sadness.\\n\\nThe prince was silent and looked indifferent. But, with the womanly and\\ncourtierlike quickness and tact habitual to her, Anna Pávlovna\\nwished both to rebuke him (for daring to speak as he had done of a man\\nrecommended to the Empress) and at the same time to console him, so she\\nsaid:\\n\\n“Now about your family. Do you know that since your daughter came\\nout everyone has been enraptured by her? They say she is amazingly\\nbeautiful.”\\n\\nThe prince bowed to signify his respect and gratitude.\\n\\n“I often think,” she continued after a short pause, drawing nearer\\nto the prince and smiling amiably at him as if to show that political\\nand social topics were ended and the time had come for intimate\\nconversation—“I often think how unfairly sometimes the joys of life\\nare distributed. Why has fate given you two such splendid children?\\nI don’t speak of Anatole, your youngest. I don’t like him,” she\\nadded in a tone admitting of no rejoinder and raising her eyebrows.\\n“Two such charming children. And really you appreciate them less than\\nanyone, and so you don’t deserve to have them.”\\n\\nAnd she smiled her ecstatic smile.\\n\\n“I can’t help it,” said the prince. “Lavater would have said I\\nlack the bump of paternity.”\\n\\n“Don’t joke; I mean to have a serious talk with you. Do you know\\nI am dissatisfied with your younger son? Between ourselves” (and her\\nface assumed its melancholy expression), “he was mentioned at Her\\nMajesty’s and you were pitied....”\\n\\nThe prince answered nothing, but she looked at him significantly,\\nawaiting a reply. He frowned.\\n\\n“What would you have me do?” he said at last. “You know I did all\\na father could for their education, and they have both turned out fools.\\nHippolyte is at least a quiet fool, but Anatole is an active one. That\\nis the only difference between them.” He said this smiling in a way\\nmore natural and animated than usual, so that the wrinkles round\\nhis mouth very clearly revealed something unexpectedly coarse and\\nunpleasant.\\n\\n“And why are children born to such men as you? If you were not a\\nfather there would be nothing I could reproach you with,” said Anna\\nPávlovna, looking up pensively.\\n\\n“I am your faithful slave and to you alone I can confess that my\\nchildren are the bane of my life. It is the cross I have to bear. That\\nis how I explain it to myself. It can’t be helped!”\\n\\nHe said no more, but expressed his resignation to cruel fate by a\\ngesture. Anna Pávlovna meditated.\\n\\n“Have you never thought of marrying your prodigal son Anatole?” she\\nasked. “They say old maids have a mania for matchmaking, and though I\\ndon’t feel that weakness in myself as yet, I know a little person who\\nis very unhappy with her father. She is a relation of yours, Princess\\nMary Bolkónskaya.”\\n\\nPrince Vasíli did not reply, though, with the quickness of memory and\\nperception befitting a man of the world, he indicated by a movement of\\nthe head that he was considering this information.\\n\\n“Do you know,” he said at last, evidently unable to check the sad\\ncurrent of his thoughts, “that Anatole is costing me forty thousand\\nrubles a year? And,” he went on after a pause, “what will it be in\\nfive years, if he goes on like this?” Presently he added: “That’s\\nwhat we fathers have to put up with.... Is this princess of yours\\nrich?”\\n\\n“Her father is very rich and stingy. He lives in the country. He is\\nthe well-known Prince Bolkónski who had to retire from the army under\\nthe late Emperor, and was nicknamed ‘the King of Prussia.’ He is\\nvery clever but eccentric, and a bore. The poor girl is very unhappy.\\nShe has a brother; I think you know him, he married Lise Meinen lately.\\nHe is an aide-de-camp of Kutúzov’s and will be here tonight.”\\n\\n“Listen, dear Annette,” said the prince, suddenly taking Anna\\nPávlovna’s hand and for some reason drawing it downwards. “Arrange\\nthat affair for me and I shall always be your most devoted slave-slafe\\nwith an f, as a village elder of mine writes in his reports. She is rich\\nand of good family and that’s all I want.”\\n\\nAnd with the familiarity and easy grace peculiar to him, he raised the\\nmaid of honor’s hand to his lips, kissed it, and swung it to and fro\\nas he lay back in his armchair, looking in another direction.\\n\\n“Attendez,” said Anna Pávlovna, reflecting, “I’ll speak to\\nLise, young Bolkónski’s wife, this very evening, and perhaps the\\nthing can be arranged. It shall be on your family’s behalf that I’ll\\nstart my apprenticeship as old maid.”\\n\\n\\n\\n\\n\\nCHAPTER II\\n\\nAnna Pávlovna’s drawing room was gradually filling. The highest\\nPetersburg society was assembled there: people differing widely in age\\nand character but alike in the social circle to which they belonged.\\nPrince Vasíli’s daughter, the beautiful Hélène, came to take her\\nfather to the ambassador’s entertainment; she wore a ball dress and\\nher badge as maid of honor. The youthful little Princess Bolkónskaya,\\nknown as la femme la plus séduisante de Pétersbourg, * was also there.\\nShe had been married during the previous winter, and being pregnant did\\nnot go to any large gatherings, but only to small receptions. Prince\\nVasíli’s son, Hippolyte, had come with Mortemart, whom he introduced.\\nThe Abbé Morio and many others had also come.\\n\\n     * The most fascinating woman in Petersburg.\\n\\nTo each new arrival Anna Pávlovna said, “You have not yet seen my\\naunt,” or “You do not know my aunt?” and very gravely conducted\\nhim or her to a little old lady, wearing large bows of ribbon in her\\ncap, who had come sailing in from another room as soon as the guests\\nbegan to arrive; and slowly turning her eyes from the visitor to her\\naunt, Anna Pávlovna mentioned each one’s name and then left them.\\n\\nEach visitor performed the ceremony of greeting this old aunt whom not\\none of them knew, not one of them wanted to know, and not one of them\\ncared about; Anna Pávlovna observed these greetings with mournful and\\nsolemn interest and silent approval. The aunt spoke to each of them in\\nthe same words, about their health and her own, and the health of Her\\nMajesty, “who, thank God, was better today.” And each visitor,\\nthough politeness prevented his showing impatience, left the old woman\\nwith a sense of relief at having performed a vexatious duty and did not\\nreturn to her the whole evening.\\n\\nThe young Princess Bolkónskaya had brought some work in a\\ngold-embroidered velvet bag. Her pretty little upper lip, on which a\\ndelicate dark down was just perceptible, was too short for her teeth,\\nbut it lifted all the more sweetly, and was especially charming when she\\noccasionally drew it down to meet the lower lip. As is always the case\\nwith a thoroughly attractive woman, her defect—the shortness of her\\nupper lip and her half-open mouth—seemed to be her own special and\\npeculiar form of beauty. Everyone brightened at the sight of this pretty\\nyoung woman, so soon to become a mother, so full of life and health, and\\ncarrying her burden so lightly. Old men and dull dispirited young ones\\nwho looked at her, after being in her company and talking to her a\\nlittle while, felt as if they too were becoming, like her, full of life\\nand health. All who talked to her, and at each word saw her bright smile\\nand the constant gleam of her white teeth, thought that they were in a\\nspecially amiable mood that day.\\n\\nThe little princess went round the table with quick, short, swaying\\nsteps, her workbag on her arm, and gaily spreading out her dress sat\\ndown on a sofa near the silver samovar, as if all she was doing was a\\npleasure to herself and to all around her. “I have brought my work,”\\nsaid she in French, displaying her bag and addressing all present.\\n“Mind, Annette, I hope you have not played a wicked trick on me,”\\nshe added, turning to her hostess. “You wrote that it was to be quite\\na small reception, and just see how badly I am dressed.” And she\\nspread out her arms to show her short-waisted, lace-trimmed, dainty gray\\ndress, girdled with a broad ribbon just below the breast.\\n\\n“Soyez tranquille, Lise, you will always be prettier than anyone\\nelse,” replied Anna Pávlovna.\\n\\n“You know,” said the princess in the same tone of voice and still in\\nFrench, turning to a general, “my husband is deserting me? He is going\\nto get himself killed. Tell me what this wretched war is for?” she\\nadded, addressing Prince Vasíli, and without waiting for an answer she\\nturned to speak to his daughter, the beautiful Hélène.\\n\\n“What a delightful woman this little princess is!” said Prince\\nVasíli to Anna Pávlovna.\\n\\nOne of the next arrivals was a stout, heavily built young man with\\nclose-cropped hair, spectacles, the light-colored breeches fashionable\\nat that time, a very high ruffle, and a brown dress coat. This stout\\nyoung man was an illegitimate son of Count Bezúkhov, a well-known\\ngrandee of Catherine’s time who now lay dying in Moscow. The young man\\nhad not yet entered either the military or civil service, as he had only\\njust returned from abroad where he had been educated, and this was his\\nfirst appearance in society. Anna Pávlovna greeted him with the nod she\\naccorded to the lowest hierarchy in her drawing room. But in spite of\\nthis lowest-grade greeting, a look of anxiety and fear, as at the sight\\nof something too large and unsuited to the place, came over her face\\nwhen she saw Pierre enter. Though he was certainly rather bigger than\\nthe other men in the room, her anxiety could only have reference to\\nthe clever though shy, but observant and natural, expression which\\ndistinguished him from everyone else in that drawing room.\\n\\n“It is very good of you, Monsieur Pierre, to come and visit a poor\\ninvalid,” said Anna Pávlovna, exchanging an alarmed glance with her\\naunt as she conducted him to her.\\n\\nPierre murmured something unintelligible, and continued to look round as\\nif in search of something. On his way to the aunt he bowed to the little\\nprincess with a pleased smile, as to an intimate acquaintance.\\n\\nAnna Pávlovna’s alarm was justified, for Pierre turned away from the\\naunt without waiting to hear her speech about Her Majesty’s health.\\nAnna Pávlovna in dismay detained him with the words: “Do you know the\\nAbbé Morio? He is a most interesting man.”\\n\\n“Yes, I have heard of his scheme for perpetual peace, and it is very\\ninteresting but hardly feasible.”\\n\\n“You think so?” rejoined Anna Pávlovna in order to say something\\nand get away to attend to her duties as hostess. But Pierre now\\ncommitted a reverse act of impoliteness. First he had left a lady before\\nshe had finished speaking to him, and now he continued to speak to\\nanother who wished to get away. With his head bent, and his big feet\\nspread apart, he began explaining his reasons for thinking the abbé’s\\nplan chimerical.\\n\\n“We will talk of it later,” said Anna Pávlovna with a smile.\\n\\nAnd having got rid of this young man who did not know how to behave, she\\nresumed her duties as hostess and continued to listen and watch, ready\\nto help at any point where the conversation might happen to flag. As\\nthe foreman of a spinning mill, when he has set the hands to work, goes\\nround and notices here a spindle that has stopped or there one that\\ncreaks or makes more noise than it should, and hastens to check the\\nmachine or set it in proper motion, so Anna Pávlovna moved about her\\ndrawing room, approaching now a silent, now a too-noisy group, and by a\\nword or slight rearrangement kept the conversational machine in steady,\\nproper, and regular motion. But amid these cares her anxiety about\\nPierre was evident. She kept an anxious watch on him when he approached\\nthe group round Mortemart to listen to what was being said there, and\\nagain when he passed to another group whose center was the abbé.\\n\\nPierre had been educated abroad, and this reception at Anna\\nPávlovna’s was the first he had attended in Russia. He knew that all\\nthe intellectual lights of Petersburg were gathered there and, like a\\nchild in a toyshop, did not know which way to look, afraid of missing\\nany clever conversation that was to be heard. Seeing the self-confident\\nand refined expression on the faces of those present he was always\\nexpecting to hear something very profound. At last he came up to Morio.\\nHere the conversation seemed interesting and he stood waiting for an\\nopportunity to express his own views, as young people are fond of doing.\\n\\n\\n\\n\\n\\nCHAPTER III\\n\\nAnna Pávlovna’s reception was in full swing. The spindles hummed\\nsteadily and ceaselessly on all sides. With the exception of the aunt,\\nbeside whom sat only one elderly lady, who with her thin careworn face\\nwas rather out of place in this brilliant society, the whole company had\\nsettled into three groups. One, chiefly masculine, had formed round\\nthe abbé. Another, of young people, was grouped round the beautiful\\nPrincess Hélène, Prince Vasíli’s daughter, and the little Princess\\nBolkónskaya, very pretty and rosy, though rather too plump for her age.\\nThe third group was gathered round Mortemart and Anna Pávlovna.\\n\\nThe vicomte was a nice-looking young man with soft features and polished\\nmanners, who evidently considered himself a celebrity but out of\\npoliteness modestly placed himself at the disposal of the circle in\\nwhich he found himself. Anna Pávlovna was obviously serving him up as\\na treat to her guests. As a clever maître d’hôtel serves up as a\\nspecially choice delicacy a piece of meat that no one who had seen it in\\nthe kitchen would have cared to eat, so Anna Pávlovna served up to\\nher guests, first the vicomte and then the abbé, as peculiarly choice\\nmorsels. The group about Mortemart immediately began discussing the\\nmurder of the Duc d’Enghien. The vicomte said that the Duc d’Enghien\\nhad perished by his own magnanimity, and that there were particular\\nreasons for Buonaparte’s hatred of him.\\n\\n“Ah, yes! Do tell us all about it, Vicomte,” said Anna Pávlovna,\\nwith a pleasant feeling that there was something à la Louis XV in the\\nsound of that sentence: “Contez nous çela, Vicomte.”\\n\\nThe vicomte bowed and smiled courteously in token of his willingness to\\ncomply. Anna Pávlovna arranged a group round him, inviting everyone to\\nlisten to his tale.\\n\\n“The vicomte knew the duc personally,” whispered Anna Pávlovna to\\none of the guests. “The vicomte is a wonderful raconteur,” said she\\nto another. “How evidently he belongs to the best society,” said she\\nto a third; and the vicomte was served up to the company in the choicest\\nand most advantageous style, like a well-garnished joint of roast beef\\non a hot dish.\\n\\nThe vicomte wished to begin his story and gave a subtle smile.\\n\\n“Come over here, Hélène, dear,” said Anna Pávlovna to the\\nbeautiful young princess who was sitting some way off, the center of\\nanother group.\\n\\nThe princess smiled. She rose with the same unchanging smile with which\\nshe had first entered the room—the smile of a perfectly beautiful\\nwoman. With a slight rustle of her white dress trimmed with moss\\nand ivy, with a gleam of white shoulders, glossy hair, and sparkling\\ndiamonds, she passed between the men who made way for her, not looking\\nat any of them but smiling on all, as if graciously allowing each the\\nprivilege of admiring her beautiful figure and shapely shoulders,\\nback, and bosom—which in the fashion of those days were very much\\nexposed—and she seemed to bring the glamour of a ballroom with her as\\nshe moved toward Anna Pávlovna. Hélène was so lovely that not only\\ndid she not show any trace of coquetry, but on the contrary she even\\nappeared shy of her unquestionable and all too victorious beauty. She\\nseemed to wish, but to be unable, to diminish its effect.\\n\\n“How lovely!” said everyone who saw her; and the vicomte lifted his\\nshoulders and dropped his eyes as if startled by something extraordinary\\nwhen she took her seat opposite and beamed upon him also with her\\nunchanging smile.\\n\\n“Madame, I doubt my ability before such an audience,” said he,\\nsmilingly inclining his head.\\n\\nThe princess rested her bare round arm on a little table and considered\\na reply unnecessary. She smilingly waited. All the time the story was\\nbeing told she sat upright, glancing now at her beautiful round arm,\\naltered in shape by its pressure on the table, now at her still more\\nbeautiful bosom, on which she readjusted a diamond necklace. From time\\nto time she smoothed the folds of her dress, and whenever the story\\nproduced an effect she glanced at Anna Pávlovna, at once adopted just\\nthe expression she saw on the maid of honor’s face, and again relapsed\\ninto her radiant smile.\\n\\nThe little princess had also left the tea table and followed Hélène.\\n\\n“Wait a moment, I’ll get my work.... Now then, what are you\\nthinking of?” she went on, turning to Prince Hippolyte. “Fetch me my\\nworkbag.”\\n\\nThere was a general movement as the princess, smiling and talking\\nmerrily to everyone at once, sat down and gaily arranged herself in her\\nseat.\\n\\n“Now I am all right,” she said, and asking the vicomte to begin, she\\ntook up her work.\\n\\nPrince Hippolyte, having brought the workbag, joined the circle and\\nmoving a chair close to hers seated himself beside her.\\n\\nLe charmant Hippolyte was surprising by his extraordinary resemblance\\nto his beautiful sister, but yet more by the fact that in spite of\\nthis resemblance he was exceedingly ugly. His features were like his\\nsister’s, but while in her case everything was lit up by a joyous,\\nself-satisfied, youthful, and constant smile of animation, and by the\\nwonderful classic beauty of her figure, his face on the contrary\\nwas dulled by imbecility and a constant expression of sullen\\nself-confidence, while his body was thin and weak. His eyes, nose, and\\nmouth all seemed puckered into a vacant, wearied grimace, and his arms\\nand legs always fell into unnatural positions.\\n\\n“It’s not going to be a ghost story?” said he, sitting down beside\\nthe princess and hastily adjusting his lorgnette, as if without this\\ninstrument he could not begin to speak.\\n\\n“Why no, my dear fellow,” said the astonished narrator, shrugging\\nhis shoulders.\\n\\n“Because I hate ghost stories,” said Prince Hippolyte in a tone\\nwhich showed that he only understood the meaning of his words after he\\nhad uttered them.\\n\\nHe spoke with such self-confidence that his hearers could not be sure\\nwhether what he said was very witty or very stupid. He was dressed in\\na dark-green dress coat, knee breeches of the color of cuisse de nymphe\\neffrayée, as he called it, shoes, and silk stockings.\\n\\nThe vicomte told his tale very neatly. It was an anecdote, then current,\\nto the effect that the Duc d’Enghien had gone secretly to Paris to\\nvisit Mademoiselle George; that at her house he came upon Bonaparte,\\nwho also enjoyed the famous actress’ favors, and that in his presence\\nNapoleon happened to fall into one of the fainting fits to which he was\\nsubject, and was thus at the duc’s mercy. The latter spared him, and\\nthis magnanimity Bonaparte subsequently repaid by death.\\n\\nThe story was very pretty and interesting, especially at the point\\nwhere the rivals suddenly recognized one another; and the ladies looked\\nagitated.\\n\\n“Charming!” said Anna Pávlovna with an inquiring glance at the\\nlittle princess.\\n\\n“Charming!” whispered the little princess, sticking the needle into\\nher work as if to testify that the interest and fascination of the story\\nprevented her from going on with it.\\n\\nThe vicomte appreciated this silent praise and smiling gratefully\\nprepared to continue, but just then Anna Pávlovna, who had kept a\\nwatchful eye on the young man who so alarmed her, noticed that he was\\ntalking too loudly and vehemently with the abbé, so she hurried to the\\nrescue. Pierre had managed to start a conversation with the abbé about\\nthe balance of '"
      ]
     },
     "execution_count": 34,
     "metadata": {},
     "output_type": "execute_result"
    }
   ],
   "source": [
    "text[11000:34000]"
   ]
  },
  {
   "cell_type": "code",
   "execution_count": 36,
   "id": "355ad559",
   "metadata": {},
   "outputs": [
    {
     "ename": "MemoryError",
     "evalue": "Unable to allocate 3.59 GiB for an array with shape (21939, 21939) and data type float64",
     "output_type": "error",
     "traceback": [
      "\u001b[31m---------------------------------------------------------------------------\u001b[39m",
      "\u001b[31mMemoryError\u001b[39m                               Traceback (most recent call last)",
      "\u001b[36mCell\u001b[39m\u001b[36m \u001b[39m\u001b[32mIn[36]\u001b[39m\u001b[32m, line 1\u001b[39m\n\u001b[32m----> \u001b[39m\u001b[32m1\u001b[39m sem_chunk = \u001b[43msem_chunk\u001b[49m\u001b[43m.\u001b[49m\u001b[43msplit_text\u001b[49m\u001b[43m(\u001b[49m\u001b[43mtext\u001b[49m\u001b[43m)\u001b[49m\n",
      "\u001b[36mFile \u001b[39m\u001b[32mc:\\Users\\user\\Desktop\\John\\app\\.venv\\Lib\\site-packages\\chunking_evaluation\\chunking\\cluster_semantic_chunker.py:86\u001b[39m, in \u001b[36mClusterSemanticChunker.split_text\u001b[39m\u001b[34m(self, text)\u001b[39m\n\u001b[32m     83\u001b[39m \u001b[38;5;28;01mdef\u001b[39;00m\u001b[38;5;250m \u001b[39m\u001b[34msplit_text\u001b[39m(\u001b[38;5;28mself\u001b[39m, text: \u001b[38;5;28mstr\u001b[39m) -> List[\u001b[38;5;28mstr\u001b[39m]:\n\u001b[32m     84\u001b[39m     sentences = \u001b[38;5;28mself\u001b[39m.splitter.split_text(text)\n\u001b[32m---> \u001b[39m\u001b[32m86\u001b[39m     similarity_matrix = \u001b[38;5;28;43mself\u001b[39;49m\u001b[43m.\u001b[49m\u001b[43m_get_similarity_matrix\u001b[49m\u001b[43m(\u001b[49m\u001b[38;5;28;43mself\u001b[39;49m\u001b[43m.\u001b[49m\u001b[43membedding_function\u001b[49m\u001b[43m,\u001b[49m\u001b[43m \u001b[49m\u001b[43msentences\u001b[49m\u001b[43m)\u001b[49m\n\u001b[32m     88\u001b[39m     clusters = \u001b[38;5;28mself\u001b[39m._optimal_segmentation(similarity_matrix, max_cluster_size=\u001b[38;5;28mself\u001b[39m.max_cluster)\n\u001b[32m     90\u001b[39m     docs = [\u001b[33m'\u001b[39m\u001b[33m \u001b[39m\u001b[33m'\u001b[39m.join(sentences[start:end+\u001b[32m1\u001b[39m]) \u001b[38;5;28;01mfor\u001b[39;00m start, end \u001b[38;5;129;01min\u001b[39;00m clusters]\n",
      "\u001b[36mFile \u001b[39m\u001b[32mc:\\Users\\user\\Desktop\\John\\app\\.venv\\Lib\\site-packages\\chunking_evaluation\\chunking\\cluster_semantic_chunker.py:43\u001b[39m, in \u001b[36mClusterSemanticChunker._get_similarity_matrix\u001b[39m\u001b[34m(self, embedding_function, sentences)\u001b[39m\n\u001b[32m     40\u001b[39m     \u001b[38;5;28;01melse\u001b[39;00m:\n\u001b[32m     41\u001b[39m         embedding_matrix = np.concatenate((embedding_matrix, batch_embedding_matrix), axis=\u001b[32m0\u001b[39m)\n\u001b[32m---> \u001b[39m\u001b[32m43\u001b[39m similarity_matrix = \u001b[43mnp\u001b[49m\u001b[43m.\u001b[49m\u001b[43mdot\u001b[49m\u001b[43m(\u001b[49m\u001b[43membedding_matrix\u001b[49m\u001b[43m,\u001b[49m\u001b[43m \u001b[49m\u001b[43membedding_matrix\u001b[49m\u001b[43m.\u001b[49m\u001b[43mT\u001b[49m\u001b[43m)\u001b[49m\n\u001b[32m     45\u001b[39m \u001b[38;5;28;01mreturn\u001b[39;00m similarity_matrix\n",
      "\u001b[31mMemoryError\u001b[39m: Unable to allocate 3.59 GiB for an array with shape (21939, 21939) and data type float64"
     ]
    }
   ],
   "source": [
    "sem_chunk = sem_chunk.split_text(text)"
   ]
  },
  {
   "cell_type": "code",
   "execution_count": null,
   "id": "6fbb4b44",
   "metadata": {},
   "outputs": [],
   "source": [
    "import chromadb\n",
    "\n",
    "client = chromadb.HttpClient(host=\"localhost\", port=8000)\n",
    " "
   ]
  },
  {
   "cell_type": "code",
   "execution_count": null,
   "id": "767e2777",
   "metadata": {},
   "outputs": [],
   "source": [
    "from chromadb.utils import embedding_functions\n",
    "from dotenv import dotenv_values\n",
    "config = dotenv_values(\".env\")\n",
    "azure_openai_ef = embedding_functions.OpenAIEmbeddingFunction(\n",
    "    api_base=\"https://ai-asksulaimanov7666ai665127629473.openai.azure.com\",\n",
    "    deployment_id=\"text-embedding-3-small\",\n",
    "    api_key=config.get(\"AZURE_API_KEY_EMBEDDINGS\"),\n",
    "    api_type=\"azure\",\n",
    "    api_version=\"2023-05-15\", \n",
    "    model_name=\"text-embedding-3-small\"  \n",
    ")"
   ]
  },
  {
   "cell_type": "code",
   "execution_count": 23,
   "id": "2b1b74f4",
   "metadata": {},
   "outputs": [],
   "source": [
    "client.delete_collection(\"war_and_peace\")"
   ]
  },
  {
   "cell_type": "code",
   "execution_count": 10,
   "id": "9da09601",
   "metadata": {},
   "outputs": [],
   "source": [
    "collection = client.get_or_create_collection(\"war_and_peace\", embedding_function=azure_openai_ef)"
   ]
  },
  {
   "cell_type": "code",
   "execution_count": 24,
   "id": "5ae8d130",
   "metadata": {},
   "outputs": [],
   "source": [
    "collection = client.get_or_create_collection(\"war_and_peace_local\")"
   ]
  },
  {
   "cell_type": "code",
   "execution_count": 25,
   "id": "469b2cb9",
   "metadata": {},
   "outputs": [
    {
     "data": {
      "text/plain": [
       "8737"
      ]
     },
     "execution_count": 25,
     "metadata": {},
     "output_type": "execute_result"
    }
   ],
   "source": [
    "collection.count()"
   ]
  },
  {
   "cell_type": "code",
   "execution_count": 56,
   "metadata": {},
   "outputs": [
    {
     "data": {
      "text/plain": [
       "Collection(name=war_and_peace)"
      ]
     },
     "execution_count": 56,
     "metadata": {},
     "output_type": "execute_result"
    }
   ],
   "source": [
    "collection"
   ]
  },
  {
   "cell_type": "code",
   "execution_count": 13,
   "id": "3676bf29",
   "metadata": {},
   "outputs": [],
   "source": [
    "local_ef = collection._embedding_function"
   ]
  },
  {
   "cell_type": "code",
   "execution_count": 66,
   "id": "9c9ad58f",
   "metadata": {},
   "outputs": [
    {
     "data": {
      "text/plain": [
       "8737"
      ]
     },
     "execution_count": 66,
     "metadata": {},
     "output_type": "execute_result"
    }
   ],
   "source": [
    "collection.count()"
   ]
  },
  {
   "cell_type": "code",
   "execution_count": null,
   "id": "eb375f47",
   "metadata": {},
   "outputs": [],
   "source": [
    "collection.add(documents=sem_chunk, ids = [f\"i{i}\" for i in range(len(sem_chunk))])"
   ]
  },
  {
   "cell_type": "code",
   "execution_count": 42,
   "id": "a1db57c9",
   "metadata": {},
   "outputs": [
    {
     "name": "stdout",
     "output_type": "stream",
     "text": [
      "alone applying her handkerchief to her eyes. At last she rang. “What is the matter with you, my dear?” she said crossly to the maid\n",
      "who kept her waiting some minutes. “Don’t you wish to serve me? Then\n",
      "I’ll find you another place.” The countess was upset by her friend’s sorrow and humiliating poverty,\n",
      "and was therefore out of sorts, a state of mind which with her always\n",
      "found expression in calling her maid “my dear” and speaking to her\n",
      "--------------------------\n",
      "with exaggerated politeness. “I am very sorry, ma’am,” answered the maid.\n",
      "\n",
      "“Ask the count to come to me.”\n",
      "\n",
      "The count came waddling in to see his wife with a rather guilty look as\n",
      "usual. “Well, little countess? What a sauté of game au madère we are to\n",
      "have, my dear! I tasted it. The thousand rubles I paid for Tarás were\n",
      "--------------------------\n",
      "not ill-spent. He is worth it!”\n",
      "--------------------------\n",
      "He sat down by his wife, his elbows on his knees and his hands ruffling\n",
      "his gray hair.\n",
      "\n",
      "“What are your commands, little countess?” “You see, my dear... What’s that mess?” she said, pointing to his\n",
      "waistcoat. “It’s the sauté, most likely,” she added with a smile.\n",
      "--------------------------\n",
      "“Well, you see, Count, I want some money.” Her face became sad.\n",
      "\n",
      "“Oh, little countess!” ... and the count began bustling to get out\n",
      "his pocketbook. “I want a great deal, Count! I want five hundred rubles,” and taking\n",
      "out her cambric handkerchief she began wiping her husband’s waistcoat.\n",
      "--------------------------\n",
      "“Yes, immediately, immediately! Hey, who’s there?” he called out\n",
      "in a tone only used by persons who are certain that those they call will\n",
      "rush to obey the summons. “Send Dmítri to me!” Dmítri, a man of good family who had been brought up in the count’s\n",
      "house and now managed all his affairs, stepped softly into the room. “This is what I want, my dear fellow,” said the count to the\n",
      "deferential young man who had entered. “Bring me...” he reflected\n",
      "--------------------------\n",
      "a moment, “yes, bring me seven hundred rubles, yes! But mind, don’t\n",
      "bring me such tattered and dirty notes as last time, but nice clean ones\n",
      "for the countess.” “Yes, Dmítri, clean ones, please,” said the countess, sighing\n",
      "deeply. “When would you like them, your excellency?” asked Dmítri. “Allow\n",
      "me to inform you... But, don’t be uneasy,” he added, noticing that\n",
      "--------------------------\n",
      "the count was beginning to breathe heavily and quickly which was always\n",
      "a sign of approaching anger. “I was forgetting... Do you wish it\n",
      "brought at once?” “Yes, yes; just so! Bring it. Give it to the countess.” “What a treasure that Dmítri is,” added the count with a smile when\n",
      "the young man had departed. “There is never any ‘impossible’ with\n",
      "him. That’s a thing I hate! Everything is possible.”\n",
      "--------------------------\n",
      "“Ah, money, Count, money! How much sorrow it causes in the world,”\n",
      "said the countess. “But I am in great need of this sum.” “You, my little countess, are a notorious spendthrift,” said the\n",
      "count, and having kissed his wife’s hand he went back to his study. When Anna Mikháylovna returned from Count Bezúkhov’s the money, all\n",
      "in clean notes, was lying ready under a handkerchief on the countess’\n",
      "--------------------------\n",
      "little table, and Anna Mikháylovna noticed that something was agitating\n",
      "her. “Well, my dear?” asked the countess.\n",
      "\n",
      "“Oh, what a terrible state he is in! One would not know him, he is so\n",
      "ill! I was only there a few moments and hardly said a word...” “Annette, for heaven’s sake don’t refuse me,” the countess\n",
      "began, with a blush that looked very strange on her thin, dignified,\n",
      "--------------------------\n"
     ]
    }
   ],
   "source": [
    "for i in range(10):\n",
    "    print(sem_chunk[400 + i])\n",
    "    print(\"--------------------------\")  # Separator for readability"
   ]
  },
  {
   "cell_type": "code",
   "execution_count": 26,
   "id": "1a6b596e",
   "metadata": {},
   "outputs": [],
   "source": [
    "from chunking_evaluation.chunking import RecursiveTokenChunker"
   ]
  },
  {
   "cell_type": "code",
   "execution_count": 32,
   "id": "349a4b30",
   "metadata": {},
   "outputs": [],
   "source": [
    "chunker = RecursiveTokenChunker(chunk_size=400, chunk_overlap= 50)\n",
    "    "
   ]
  },
  {
   "cell_type": "code",
   "execution_count": 33,
   "id": "6213c9fb",
   "metadata": {},
   "outputs": [],
   "source": [
    "chunks = chunker.split_text(text)"
   ]
  },
  {
   "cell_type": "code",
   "execution_count": 34,
   "id": "6f87e1fd",
   "metadata": {},
   "outputs": [
    {
     "data": {
      "text/plain": [
       "'d child, a continual consciousness of her charming defect,\\nwhich she neither wished, nor could, nor considered it necessary, to\\ncorrect.\\n\\nIn the midst of a conversation on political matters Anna Pávlovna burst\\nout:\\n\\n“Oh, don’t speak to me of Austria. Perhaps I don’t understand\\nthings, but Austria ne'"
      ]
     },
     "execution_count": 34,
     "metadata": {},
     "output_type": "execute_result"
    }
   ],
   "source": [
    "text[11000:11300]"
   ]
  },
  {
   "cell_type": "code",
   "execution_count": 35,
   "id": "3169edc5",
   "metadata": {},
   "outputs": [
    {
     "name": "stdout",
     "output_type": "stream",
     "text": [
      "But as she passed the sitting room she noticed two couples sitting,\n",
      "one pair at each window. She stopped and smiled scornfully. Sónya was\n",
      "sitting close to Nicholas who was copying out some verses for her, the\n",
      "first he had ever written. Borís and Natásha were at the other window\n",
      "and ceased talking when Véra entered. Sónya and Natásha looked at\n",
      "Véra with guilty, happy faces.\n",
      "--------------------------\n",
      "It was pleasant and touching to see these little girls in love; but\n",
      "apparently the sight of them roused no pleasant feeling in Véra.\n",
      "\n",
      "“How often have I asked you not to take my things?” she said. “You\n",
      "have a room of your own,” and she took the inkstand from Nicholas.\n",
      "\n",
      "“In a minute, in a minute,” he said, dipping his pen.\n",
      "--------------------------\n",
      "“You always manage to do things at the wrong time,” continued Véra.\n",
      "“You came rushing into the drawing room so that everyone felt ashamed\n",
      "of you.”\n",
      "\n",
      "Though what she said was quite just, perhaps for that very reason no one\n",
      "replied, and the four simply looked at one another. She lingered in the\n",
      "room with the inkstand in her hand.\n",
      "--------------------------\n",
      "“And at your age what secrets can there be between Natásha and\n",
      "Borís, or between you two? It’s all nonsense!”\n",
      "\n",
      "“Now, Véra, what does it matter to you?” said Natásha in defense,\n",
      "speaking very gently.\n",
      "\n",
      "She seemed that day to be more than ever kind and affectionate to\n",
      "everyone.\n",
      "\n",
      "“Very silly,” said Véra. “I am ashamed of you. Secrets indeed!”\n",
      "--------------------------\n",
      "“All have secrets of their own,” answered Natásha, getting warmer.\n",
      "“We don’t interfere with you and Berg.”\n",
      "\n",
      "“I should think not,” said Véra, “because there can never be\n",
      "anything wrong in my behavior. But I’ll just tell Mamma how you are\n",
      "behaving with Borís.”\n",
      "\n",
      "“Natálya Ilyníchna behaves very well to me,” remarked Borís. “I\n",
      "have nothing to complain of.”\n",
      "--------------------------\n",
      "“Don’t, Borís! You are such a diplomat that it is really\n",
      "tiresome,” said Natásha in a mortified voice that trembled slightly.\n",
      "(She used the word “diplomat,” which was just then much in vogue\n",
      "among the children, in the special sense they attached to it.) “Why\n",
      "does she bother me?” And she added, turning to Véra, “You’ll\n",
      "never understand it, because you’ve never loved anyone. You have no\n",
      "--------------------------\n",
      "heart! You are a Madame de Genlis and nothing more” (this nickname,\n",
      "bestowed on Véra by Nicholas, was considered very stinging), “and\n",
      "your greatest pleasure is to be unpleasant to people! Go and flirt with\n",
      "Berg as much as you please,” she finished quickly.\n",
      "--------------------------\n",
      "“I shall at any rate not run after a young man before visitors...”\n",
      "\n",
      "“Well, now you’ve done what you wanted,” put in Nicholas—“said\n",
      "unpleasant things to everyone and upset them. Let’s go to the\n",
      "nursery.”\n",
      "\n",
      "All four, like a flock of scared birds, got up and left the room.\n",
      "\n",
      "“The unpleasant things were said to me,” remarked Véra, “I said\n",
      "none to anyone.”\n",
      "--------------------------\n",
      "“Madame de Genlis! Madame de Genlis!” shouted laughing voices\n",
      "through the door.\n",
      "\n",
      "The handsome Véra, who produced such an irritating and unpleasant\n",
      "effect on everyone, smiled and, evidently unmoved by what had been\n",
      "said to her, went to the looking glass and arranged her hair and scarf.\n",
      "Looking at her own handsome face she seemed to become still colder and\n",
      "calmer.\n",
      "--------------------------\n",
      "In the drawing room the conversation was still going on.\n",
      "--------------------------\n"
     ]
    }
   ],
   "source": [
    "for i in range(10):\n",
    "    print(chunks[400 + i])\n",
    "    print(\"--------------------------\")"
   ]
  }
 ],
 "metadata": {
  "kernelspec": {
   "display_name": ".venv",
   "language": "python",
   "name": "python3"
  },
  "language_info": {
   "codemirror_mode": {
    "name": "ipython",
    "version": 3
   },
   "file_extension": ".py",
   "mimetype": "text/x-python",
   "name": "python",
   "nbconvert_exporter": "python",
   "pygments_lexer": "ipython3",
   "version": "3.13.2"
  }
 },
 "nbformat": 4,
 "nbformat_minor": 5
}
